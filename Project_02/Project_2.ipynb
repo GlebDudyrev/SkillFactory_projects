{
  "cells": [
    {
      "cell_type": "markdown",
      "id": "42289889-bd57-434e-9637-d3e354756316",
      "metadata": {
        "id": "42289889-bd57-434e-9637-d3e354756316"
      },
      "source": [
        "<center> <img src = https://raw.githubusercontent.com/AndreyRysistov/DatasetsForPandas/main/hh%20label.jpg alt=\"drawing\" style=\"width:400px;\">"
      ]
    },
    {
      "cell_type": "markdown",
      "id": "829cb75b-f14e-4ba8-9195-7ba929a7d656",
      "metadata": {
        "id": "829cb75b-f14e-4ba8-9195-7ba929a7d656",
        "tags": []
      },
      "source": [
        "# <center> Проект: Анализ вакансий из HeadHunter\n",
        "   "
      ]
    },
    {
      "cell_type": "code",
      "execution_count": 64,
      "id": "dccfde33-2452-43fb-a8a5-5c6ebc02a71d",
      "metadata": {
        "id": "dccfde33-2452-43fb-a8a5-5c6ebc02a71d"
      },
      "outputs": [],
      "source": [
        "import pandas as pd\n",
        "import psycopg2\n",
        "import requests\n",
        "from bs4 import BeautifulSoup"
      ]
    },
    {
      "cell_type": "markdown",
      "id": "0dc6476b-7a00-44f1-ac93-6e3baed33a29",
      "metadata": {
        "id": "0dc6476b-7a00-44f1-ac93-6e3baed33a29"
      },
      "source": [
        "# Юнит 3. Предварительный анализ данных"
      ]
    },
    {
      "cell_type": "markdown",
      "id": "889782b6-8d1c-410e-8920-e57f27917c64",
      "metadata": {
        "id": "889782b6-8d1c-410e-8920-e57f27917c64"
      },
      "source": [
        "1. Напишите запрос, который посчитает количество вакансий в нашей базе (вакансии находятся в таблице vacancies). "
      ]
    },
    {
      "cell_type": "code",
      "execution_count": 67,
      "id": "bc39e68e-ed02-4ee2-9235-7258a2f867a8",
      "metadata": {
        "id": "bc39e68e-ed02-4ee2-9235-7258a2f867a8"
      },
      "outputs": [],
      "source": [
        "# текст запроса\n",
        "query_3_1 = f'''\n",
        "                SELECT COUNT(*)\n",
        "                FROM vacancies\n",
        "            '''"
      ]
    },
    {
      "cell_type": "code",
      "execution_count": 68,
      "id": "7mAwtsk4hEHY",
      "metadata": {
        "id": "7mAwtsk4hEHY"
      },
      "outputs": [
        {
          "name": "stderr",
          "output_type": "stream",
          "text": [
            "C:\\Users\\maxim\\AppData\\Local\\Temp\\ipykernel_1856\\3515521326.py:2: UserWarning: pandas only supports SQLAlchemy connectable (engine/connection) or database string URI or sqlite3 DBAPI2 connection. Other DBAPI2 objects are not tested. Please consider using SQLAlchemy.\n",
            "  df = pd.read_sql_query(query_3_1, connection)\n"
          ]
        },
        {
          "data": {
            "text/html": [
              "<div>\n",
              "<style scoped>\n",
              "    .dataframe tbody tr th:only-of-type {\n",
              "        vertical-align: middle;\n",
              "    }\n",
              "\n",
              "    .dataframe tbody tr th {\n",
              "        vertical-align: top;\n",
              "    }\n",
              "\n",
              "    .dataframe thead th {\n",
              "        text-align: right;\n",
              "    }\n",
              "</style>\n",
              "<table border=\"1\" class=\"dataframe\">\n",
              "  <thead>\n",
              "    <tr style=\"text-align: right;\">\n",
              "      <th></th>\n",
              "      <th>count</th>\n",
              "    </tr>\n",
              "  </thead>\n",
              "  <tbody>\n",
              "    <tr>\n",
              "      <th>0</th>\n",
              "      <td>49197</td>\n",
              "    </tr>\n",
              "  </tbody>\n",
              "</table>\n",
              "</div>"
            ],
            "text/plain": [
              "   count\n",
              "0  49197"
            ]
          },
          "metadata": {},
          "output_type": "display_data"
        }
      ],
      "source": [
        "# результат запроса\n",
        "df = pd.read_sql_query(query_3_1, connection)\n",
        "display(df)"
      ]
    },
    {
      "cell_type": "markdown",
      "id": "b583485d-1f9e-494e-ada4-80ffff7c53d6",
      "metadata": {
        "id": "b583485d-1f9e-494e-ada4-80ffff7c53d6"
      },
      "source": [
        "2. Напишите запрос, который посчитает количество работодателей (таблица employers). "
      ]
    },
    {
      "cell_type": "code",
      "execution_count": 69,
      "id": "5408c52c-3407-4a63-b25b-1aafa2322d28",
      "metadata": {
        "id": "5408c52c-3407-4a63-b25b-1aafa2322d28"
      },
      "outputs": [],
      "source": [
        "# текст запроса\n",
        "query_3_2 = f'''\n",
        "                SELECT COUNT(*)\n",
        "                FROM employers\n",
        "            '''"
      ]
    },
    {
      "cell_type": "code",
      "execution_count": 70,
      "id": "jVL4eshKhdqc",
      "metadata": {
        "id": "jVL4eshKhdqc"
      },
      "outputs": [
        {
          "name": "stderr",
          "output_type": "stream",
          "text": [
            "C:\\Users\\maxim\\AppData\\Local\\Temp\\ipykernel_1856\\3655965175.py:2: UserWarning: pandas only supports SQLAlchemy connectable (engine/connection) or database string URI or sqlite3 DBAPI2 connection. Other DBAPI2 objects are not tested. Please consider using SQLAlchemy.\n",
            "  df = pd.read_sql_query(query_3_2, connection)\n"
          ]
        },
        {
          "data": {
            "text/html": [
              "<div>\n",
              "<style scoped>\n",
              "    .dataframe tbody tr th:only-of-type {\n",
              "        vertical-align: middle;\n",
              "    }\n",
              "\n",
              "    .dataframe tbody tr th {\n",
              "        vertical-align: top;\n",
              "    }\n",
              "\n",
              "    .dataframe thead th {\n",
              "        text-align: right;\n",
              "    }\n",
              "</style>\n",
              "<table border=\"1\" class=\"dataframe\">\n",
              "  <thead>\n",
              "    <tr style=\"text-align: right;\">\n",
              "      <th></th>\n",
              "      <th>count</th>\n",
              "    </tr>\n",
              "  </thead>\n",
              "  <tbody>\n",
              "    <tr>\n",
              "      <th>0</th>\n",
              "      <td>23501</td>\n",
              "    </tr>\n",
              "  </tbody>\n",
              "</table>\n",
              "</div>"
            ],
            "text/plain": [
              "   count\n",
              "0  23501"
            ]
          },
          "metadata": {},
          "output_type": "display_data"
        }
      ],
      "source": [
        "# результат запроса\n",
        "df = pd.read_sql_query(query_3_2, connection)\n",
        "display(df)"
      ]
    },
    {
      "cell_type": "markdown",
      "id": "a2bfff1f-c975-4bf6-84be-2185d79dcb76",
      "metadata": {
        "id": "a2bfff1f-c975-4bf6-84be-2185d79dcb76"
      },
      "source": [
        "3. Посчитате с помощью запроса количество регионов (таблица areas)."
      ]
    },
    {
      "cell_type": "code",
      "execution_count": 71,
      "id": "1m8QJwBYhey6",
      "metadata": {
        "id": "1m8QJwBYhey6"
      },
      "outputs": [],
      "source": [
        "# текст запроса\n",
        "query_3_3 = f'''\n",
        "                SELECT COUNT(*)\n",
        "                FROM areas\n",
        "            '''"
      ]
    },
    {
      "cell_type": "code",
      "execution_count": 72,
      "id": "EZsn9tlfhe7f",
      "metadata": {
        "id": "EZsn9tlfhe7f"
      },
      "outputs": [
        {
          "name": "stderr",
          "output_type": "stream",
          "text": [
            "C:\\Users\\maxim\\AppData\\Local\\Temp\\ipykernel_1856\\3731397118.py:2: UserWarning: pandas only supports SQLAlchemy connectable (engine/connection) or database string URI or sqlite3 DBAPI2 connection. Other DBAPI2 objects are not tested. Please consider using SQLAlchemy.\n",
            "  df = pd.read_sql_query(query_3_3, connection)\n"
          ]
        },
        {
          "data": {
            "text/html": [
              "<div>\n",
              "<style scoped>\n",
              "    .dataframe tbody tr th:only-of-type {\n",
              "        vertical-align: middle;\n",
              "    }\n",
              "\n",
              "    .dataframe tbody tr th {\n",
              "        vertical-align: top;\n",
              "    }\n",
              "\n",
              "    .dataframe thead th {\n",
              "        text-align: right;\n",
              "    }\n",
              "</style>\n",
              "<table border=\"1\" class=\"dataframe\">\n",
              "  <thead>\n",
              "    <tr style=\"text-align: right;\">\n",
              "      <th></th>\n",
              "      <th>count</th>\n",
              "    </tr>\n",
              "  </thead>\n",
              "  <tbody>\n",
              "    <tr>\n",
              "      <th>0</th>\n",
              "      <td>1362</td>\n",
              "    </tr>\n",
              "  </tbody>\n",
              "</table>\n",
              "</div>"
            ],
            "text/plain": [
              "   count\n",
              "0   1362"
            ]
          },
          "metadata": {},
          "output_type": "display_data"
        }
      ],
      "source": [
        "# результат запроса\n",
        "df = pd.read_sql_query(query_3_3, connection)\n",
        "display(df)"
      ]
    },
    {
      "cell_type": "markdown",
      "id": "41bb59f3-53cc-4a67-a5bc-bedf573955e4",
      "metadata": {
        "id": "41bb59f3-53cc-4a67-a5bc-bedf573955e4"
      },
      "source": [
        "4. Посчитате с помощью запроса количество сфер деятельности в базе (таблица industries)."
      ]
    },
    {
      "cell_type": "code",
      "execution_count": 73,
      "id": "d286cf4c-707b-4cd2-9190-7ab3587d04a1",
      "metadata": {
        "id": "d286cf4c-707b-4cd2-9190-7ab3587d04a1"
      },
      "outputs": [],
      "source": [
        "# текст запроса\n",
        "query_3_4 = f'''\n",
        "                SELECT COUNT(*)\n",
        "                FROM industries\n",
        "            '''"
      ]
    },
    {
      "cell_type": "code",
      "execution_count": 74,
      "id": "JYAaoZ4qhfzW",
      "metadata": {
        "id": "JYAaoZ4qhfzW"
      },
      "outputs": [
        {
          "name": "stderr",
          "output_type": "stream",
          "text": [
            "C:\\Users\\maxim\\AppData\\Local\\Temp\\ipykernel_1856\\619965657.py:2: UserWarning: pandas only supports SQLAlchemy connectable (engine/connection) or database string URI or sqlite3 DBAPI2 connection. Other DBAPI2 objects are not tested. Please consider using SQLAlchemy.\n",
            "  df = pd.read_sql_query(query_3_4, connection)\n"
          ]
        },
        {
          "data": {
            "text/html": [
              "<div>\n",
              "<style scoped>\n",
              "    .dataframe tbody tr th:only-of-type {\n",
              "        vertical-align: middle;\n",
              "    }\n",
              "\n",
              "    .dataframe tbody tr th {\n",
              "        vertical-align: top;\n",
              "    }\n",
              "\n",
              "    .dataframe thead th {\n",
              "        text-align: right;\n",
              "    }\n",
              "</style>\n",
              "<table border=\"1\" class=\"dataframe\">\n",
              "  <thead>\n",
              "    <tr style=\"text-align: right;\">\n",
              "      <th></th>\n",
              "      <th>count</th>\n",
              "    </tr>\n",
              "  </thead>\n",
              "  <tbody>\n",
              "    <tr>\n",
              "      <th>0</th>\n",
              "      <td>294</td>\n",
              "    </tr>\n",
              "  </tbody>\n",
              "</table>\n",
              "</div>"
            ],
            "text/plain": [
              "   count\n",
              "0    294"
            ]
          },
          "metadata": {},
          "output_type": "display_data"
        }
      ],
      "source": [
        "# результат запроса\n",
        "df = pd.read_sql_query(query_3_4, connection)\n",
        "display(df)"
      ]
    },
    {
      "cell_type": "markdown",
      "id": "9a8a2181-6914-448b-85f1-38f5f18b8a93",
      "metadata": {
        "id": "9a8a2181-6914-448b-85f1-38f5f18b8a93"
      },
      "source": [
        "***"
      ]
    },
    {
      "attachments": {},
      "cell_type": "markdown",
      "id": "92cae7e7",
      "metadata": {},
      "source": [
        "#### Дополнительные запросы для дополнения выводов по блоку"
      ]
    },
    {
      "attachments": {},
      "cell_type": "markdown",
      "id": "5ac3a2e8",
      "metadata": {},
      "source": [
        "Топ 5 компаний по числу вакансий."
      ]
    },
    {
      "cell_type": "code",
      "execution_count": 75,
      "id": "f2bd7d0b",
      "metadata": {},
      "outputs": [
        {
          "name": "stderr",
          "output_type": "stream",
          "text": [
            "C:\\Users\\maxim\\AppData\\Local\\Temp\\ipykernel_1856\\1961838542.py:13: UserWarning: pandas only supports SQLAlchemy connectable (engine/connection) or database string URI or sqlite3 DBAPI2 connection. Other DBAPI2 objects are not tested. Please consider using SQLAlchemy.\n",
            "  df = pd.read_sql_query(query_3_5, connection)\n"
          ]
        },
        {
          "data": {
            "text/html": [
              "<div>\n",
              "<style scoped>\n",
              "    .dataframe tbody tr th:only-of-type {\n",
              "        vertical-align: middle;\n",
              "    }\n",
              "\n",
              "    .dataframe tbody tr th {\n",
              "        vertical-align: top;\n",
              "    }\n",
              "\n",
              "    .dataframe thead th {\n",
              "        text-align: right;\n",
              "    }\n",
              "</style>\n",
              "<table border=\"1\" class=\"dataframe\">\n",
              "  <thead>\n",
              "    <tr style=\"text-align: right;\">\n",
              "      <th></th>\n",
              "      <th>employer</th>\n",
              "      <th>count</th>\n",
              "    </tr>\n",
              "  </thead>\n",
              "  <tbody>\n",
              "    <tr>\n",
              "      <th>0</th>\n",
              "      <td>Яндекс</td>\n",
              "      <td>1933</td>\n",
              "    </tr>\n",
              "    <tr>\n",
              "      <th>1</th>\n",
              "      <td>Ростелеком</td>\n",
              "      <td>491</td>\n",
              "    </tr>\n",
              "    <tr>\n",
              "      <th>2</th>\n",
              "      <td>Тинькофф</td>\n",
              "      <td>444</td>\n",
              "    </tr>\n",
              "    <tr>\n",
              "      <th>3</th>\n",
              "      <td>СБЕР</td>\n",
              "      <td>428</td>\n",
              "    </tr>\n",
              "    <tr>\n",
              "      <th>4</th>\n",
              "      <td>Газпром нефть</td>\n",
              "      <td>331</td>\n",
              "    </tr>\n",
              "  </tbody>\n",
              "</table>\n",
              "</div>"
            ],
            "text/plain": [
              "        employer  count\n",
              "0         Яндекс   1933\n",
              "1     Ростелеком    491\n",
              "2       Тинькофф    444\n",
              "3           СБЕР    428\n",
              "4  Газпром нефть    331"
            ]
          },
          "metadata": {},
          "output_type": "display_data"
        }
      ],
      "source": [
        "# текст запроса\n",
        "query_3_5= f'''\n",
        "                SELECT  \n",
        "                    e.name employer,\n",
        "                    COUNT(v.id)\n",
        "                FROM vacancies v\n",
        "                JOIN employers e ON v.employer_id = e.id\n",
        "                GROUP BY e.id\n",
        "                ORDER BY COUNT(v.id) DESC\n",
        "                LIMIT 5\n",
        "            '''\n",
        "# результат запроса\n",
        "df = pd.read_sql_query(query_3_5, connection)\n",
        "display(df)"
      ]
    },
    {
      "attachments": {},
      "cell_type": "markdown",
      "id": "fa4c349a",
      "metadata": {},
      "source": [
        "Найдем количество работодателей, у которых в данный момент нет размещенных вакансий."
      ]
    },
    {
      "cell_type": "code",
      "execution_count": 76,
      "id": "05760147",
      "metadata": {},
      "outputs": [
        {
          "name": "stderr",
          "output_type": "stream",
          "text": [
            "C:\\Users\\maxim\\AppData\\Local\\Temp\\ipykernel_1856\\4169263512.py:10: UserWarning: pandas only supports SQLAlchemy connectable (engine/connection) or database string URI or sqlite3 DBAPI2 connection. Other DBAPI2 objects are not tested. Please consider using SQLAlchemy.\n",
            "  df = pd.read_sql_query(query_3_6, connection)\n"
          ]
        },
        {
          "data": {
            "text/html": [
              "<div>\n",
              "<style scoped>\n",
              "    .dataframe tbody tr th:only-of-type {\n",
              "        vertical-align: middle;\n",
              "    }\n",
              "\n",
              "    .dataframe tbody tr th {\n",
              "        vertical-align: top;\n",
              "    }\n",
              "\n",
              "    .dataframe thead th {\n",
              "        text-align: right;\n",
              "    }\n",
              "</style>\n",
              "<table border=\"1\" class=\"dataframe\">\n",
              "  <thead>\n",
              "    <tr style=\"text-align: right;\">\n",
              "      <th></th>\n",
              "      <th>null_vacancies_employers</th>\n",
              "    </tr>\n",
              "  </thead>\n",
              "  <tbody>\n",
              "    <tr>\n",
              "      <th>0</th>\n",
              "      <td>8595</td>\n",
              "    </tr>\n",
              "  </tbody>\n",
              "</table>\n",
              "</div>"
            ],
            "text/plain": [
              "   null_vacancies_employers\n",
              "0                      8595"
            ]
          },
          "metadata": {},
          "output_type": "display_data"
        }
      ],
      "source": [
        "# текст запроса\n",
        "query_3_6= f'''\n",
        "            SELECT  \n",
        "            COUNT(*) null_vacancies_employers\n",
        "            FROM employers e\n",
        "            LEFT JOIN  vacancies v ON v.employer_id = e.id\n",
        "            WHERE v.id IS NULL\n",
        "            '''\n",
        "# результат запроса\n",
        "df = pd.read_sql_query(query_3_6, connection)\n",
        "display(df)"
      ]
    },
    {
      "attachments": {},
      "cell_type": "markdown",
      "id": "58001ab1",
      "metadata": {},
      "source": [
        "Среди работодателей, у которых размещена хотябы одна вакансия, найдем средние число вакансий."
      ]
    },
    {
      "cell_type": "code",
      "execution_count": 77,
      "id": "2266484a",
      "metadata": {},
      "outputs": [
        {
          "name": "stderr",
          "output_type": "stream",
          "text": [
            "C:\\Users\\maxim\\AppData\\Local\\Temp\\ipykernel_1856\\2964029651.py:15: UserWarning: pandas only supports SQLAlchemy connectable (engine/connection) or database string URI or sqlite3 DBAPI2 connection. Other DBAPI2 objects are not tested. Please consider using SQLAlchemy.\n",
            "  df = pd.read_sql_query(query_3_7, connection)\n"
          ]
        },
        {
          "data": {
            "text/html": [
              "<div>\n",
              "<style scoped>\n",
              "    .dataframe tbody tr th:only-of-type {\n",
              "        vertical-align: middle;\n",
              "    }\n",
              "\n",
              "    .dataframe tbody tr th {\n",
              "        vertical-align: top;\n",
              "    }\n",
              "\n",
              "    .dataframe thead th {\n",
              "        text-align: right;\n",
              "    }\n",
              "</style>\n",
              "<table border=\"1\" class=\"dataframe\">\n",
              "  <thead>\n",
              "    <tr style=\"text-align: right;\">\n",
              "      <th></th>\n",
              "      <th>avg_vacancies_on_employer</th>\n",
              "    </tr>\n",
              "  </thead>\n",
              "  <tbody>\n",
              "    <tr>\n",
              "      <th>0</th>\n",
              "      <td>3.300483</td>\n",
              "    </tr>\n",
              "  </tbody>\n",
              "</table>\n",
              "</div>"
            ],
            "text/plain": [
              "   avg_vacancies_on_employer\n",
              "0                   3.300483"
            ]
          },
          "metadata": {},
          "output_type": "display_data"
        }
      ],
      "source": [
        "# текст запроса\n",
        "query_3_7= f'''\n",
        "            SELECT\n",
        "            AVG(aa.count) avg_vacancies_on_employer\n",
        "            FROM (\n",
        "                SELECT  \n",
        "                    e.name,\n",
        "                    count(v.id)\n",
        "                FROM vacancies v\n",
        "                JOIN employers e ON v.employer_id = e.id\n",
        "                GROUP BY E.ID\n",
        "                ) aa\n",
        "            '''\n",
        "# результат запроса\n",
        "df = pd.read_sql_query(query_3_7, connection)\n",
        "display(df)"
      ]
    },
    {
      "attachments": {},
      "cell_type": "markdown",
      "id": "be4e9bd3-a4db-4a20-82fb-6b02fc2957e0",
      "metadata": {
        "id": "be4e9bd3-a4db-4a20-82fb-6b02fc2957e0"
      },
      "source": [
        "---\n",
        "\n",
        "#### Выводы по предварительному анализу данных:\n",
        "\n",
        "* По результатам запросов мы узнали, что количество вакансий, работодателей, регионов и сфер деятельности равно соответственно 49197, 23501, 1362 и 294.\n",
        "\n",
        "* Больше всего вакансий размещено компанией Яндекс - 1933, в топ 5 по количеству объявлений о вакансии также входят Ростелеком, Тинькофф, СБЕР и Газпром нефть, что объясняется тем, что чем больше компания и темп ее роста, тем больше новых сотрудников ей требуется.\n",
        "\n",
        "* Интересно отметить, что среди работодателей в нашей базе данных есть 8595, у которых в данный момент не размещено ни одной вакансии.\n",
        "\n",
        "* Среди работодателей, у которых размещена хотябы одна вакансия, средние число вакансий равно 3.3.\n",
        "\n"
      ]
    },
    {
      "cell_type": "markdown",
      "id": "8d62a9f3-f64e-4fe7-bdac-c4dffa16155e",
      "metadata": {
        "id": "8d62a9f3-f64e-4fe7-bdac-c4dffa16155e"
      },
      "source": [
        "# Юнит 4. Детальный анализ вакансий"
      ]
    },
    {
      "cell_type": "markdown",
      "id": "93053d3d-b284-481a-9cf7-012d7014c0e0",
      "metadata": {
        "id": "93053d3d-b284-481a-9cf7-012d7014c0e0"
      },
      "source": [
        "1. Напишите запрос, который позволит узнать, сколько (cnt) вакансий в каждом регионе (area).\n",
        "Отсортируйте по количеству вакансий в порядке убывания."
      ]
    },
    {
      "cell_type": "code",
      "execution_count": 78,
      "id": "3f069da6-fdc9-4ae7-b514-fafe2675efd3",
      "metadata": {
        "id": "3f069da6-fdc9-4ae7-b514-fafe2675efd3"
      },
      "outputs": [],
      "source": [
        "# текст запроса\n",
        "# текст запроса\n",
        "query_4_1= f'''\n",
        "            SELECT \n",
        "                a.name area,\n",
        "            COUNT(v.id) cnt\n",
        "            FROM vacancies v \n",
        "            JOIN areas a ON a.id = v.area_id\n",
        "            GROUP BY a.id\n",
        "            ORDER BY 2 DESC \n",
        "            LIMIT 5\n",
        "            '''\n"
      ]
    },
    {
      "cell_type": "code",
      "execution_count": 79,
      "id": "P7QL86hrjhRJ",
      "metadata": {
        "id": "P7QL86hrjhRJ"
      },
      "outputs": [
        {
          "name": "stderr",
          "output_type": "stream",
          "text": [
            "C:\\Users\\maxim\\AppData\\Local\\Temp\\ipykernel_1856\\234815181.py:2: UserWarning: pandas only supports SQLAlchemy connectable (engine/connection) or database string URI or sqlite3 DBAPI2 connection. Other DBAPI2 objects are not tested. Please consider using SQLAlchemy.\n",
            "  df = pd.read_sql_query(query_4_1, connection)\n"
          ]
        },
        {
          "data": {
            "text/html": [
              "<div>\n",
              "<style scoped>\n",
              "    .dataframe tbody tr th:only-of-type {\n",
              "        vertical-align: middle;\n",
              "    }\n",
              "\n",
              "    .dataframe tbody tr th {\n",
              "        vertical-align: top;\n",
              "    }\n",
              "\n",
              "    .dataframe thead th {\n",
              "        text-align: right;\n",
              "    }\n",
              "</style>\n",
              "<table border=\"1\" class=\"dataframe\">\n",
              "  <thead>\n",
              "    <tr style=\"text-align: right;\">\n",
              "      <th></th>\n",
              "      <th>area</th>\n",
              "      <th>cnt</th>\n",
              "    </tr>\n",
              "  </thead>\n",
              "  <tbody>\n",
              "    <tr>\n",
              "      <th>0</th>\n",
              "      <td>Москва</td>\n",
              "      <td>5333</td>\n",
              "    </tr>\n",
              "    <tr>\n",
              "      <th>1</th>\n",
              "      <td>Санкт-Петербург</td>\n",
              "      <td>2851</td>\n",
              "    </tr>\n",
              "    <tr>\n",
              "      <th>2</th>\n",
              "      <td>Минск</td>\n",
              "      <td>2112</td>\n",
              "    </tr>\n",
              "    <tr>\n",
              "      <th>3</th>\n",
              "      <td>Новосибирск</td>\n",
              "      <td>2006</td>\n",
              "    </tr>\n",
              "    <tr>\n",
              "      <th>4</th>\n",
              "      <td>Алматы</td>\n",
              "      <td>1892</td>\n",
              "    </tr>\n",
              "  </tbody>\n",
              "</table>\n",
              "</div>"
            ],
            "text/plain": [
              "              area   cnt\n",
              "0           Москва  5333\n",
              "1  Санкт-Петербург  2851\n",
              "2            Минск  2112\n",
              "3      Новосибирск  2006\n",
              "4           Алматы  1892"
            ]
          },
          "metadata": {},
          "output_type": "display_data"
        }
      ],
      "source": [
        "# результат запроса\n",
        "df = pd.read_sql_query(query_4_1, connection)\n",
        "display(df)"
      ]
    },
    {
      "cell_type": "markdown",
      "id": "4266f0b6-1646-492a-88b4-2f6a46502135",
      "metadata": {
        "id": "4266f0b6-1646-492a-88b4-2f6a46502135"
      },
      "source": [
        "2. Напишите запрос, чтобы определить у какого количества вакансий заполнено хотя бы одно из двух полей с зарплатой."
      ]
    },
    {
      "cell_type": "code",
      "execution_count": 80,
      "id": "0c44b350-72eb-4d65-8b54-a1fc449ba9fd",
      "metadata": {
        "id": "0c44b350-72eb-4d65-8b54-a1fc449ba9fd"
      },
      "outputs": [],
      "source": [
        "# текст запроса\n",
        "query_4_2= f'''\n",
        "            SELECT \n",
        "                COUNT(id) cnt\n",
        "            FROM vacancies  \n",
        "            WHERE COALESCE(salary_from, salary_to) IS NOT NULL  /* coalesce вернет нам первый не NULL\n",
        "            параметр*/\n",
        "            '''\n"
      ]
    },
    {
      "cell_type": "code",
      "execution_count": 81,
      "id": "rhvwaMDkoWTi",
      "metadata": {
        "id": "rhvwaMDkoWTi"
      },
      "outputs": [
        {
          "name": "stderr",
          "output_type": "stream",
          "text": [
            "C:\\Users\\maxim\\AppData\\Local\\Temp\\ipykernel_1856\\3734613624.py:2: UserWarning: pandas only supports SQLAlchemy connectable (engine/connection) or database string URI or sqlite3 DBAPI2 connection. Other DBAPI2 objects are not tested. Please consider using SQLAlchemy.\n",
            "  df = pd.read_sql_query(query_4_2, connection)\n"
          ]
        },
        {
          "data": {
            "text/html": [
              "<div>\n",
              "<style scoped>\n",
              "    .dataframe tbody tr th:only-of-type {\n",
              "        vertical-align: middle;\n",
              "    }\n",
              "\n",
              "    .dataframe tbody tr th {\n",
              "        vertical-align: top;\n",
              "    }\n",
              "\n",
              "    .dataframe thead th {\n",
              "        text-align: right;\n",
              "    }\n",
              "</style>\n",
              "<table border=\"1\" class=\"dataframe\">\n",
              "  <thead>\n",
              "    <tr style=\"text-align: right;\">\n",
              "      <th></th>\n",
              "      <th>cnt</th>\n",
              "    </tr>\n",
              "  </thead>\n",
              "  <tbody>\n",
              "    <tr>\n",
              "      <th>0</th>\n",
              "      <td>24073</td>\n",
              "    </tr>\n",
              "  </tbody>\n",
              "</table>\n",
              "</div>"
            ],
            "text/plain": [
              "     cnt\n",
              "0  24073"
            ]
          },
          "metadata": {},
          "output_type": "display_data"
        }
      ],
      "source": [
        "# результат запроса\n",
        "df = pd.read_sql_query(query_4_2, connection)\n",
        "display(df)"
      ]
    },
    {
      "cell_type": "markdown",
      "id": "635c4d5d-f323-4c66-b428-50a088120aa0",
      "metadata": {
        "id": "635c4d5d-f323-4c66-b428-50a088120aa0"
      },
      "source": [
        "3. Найдите средние значения для нижней и верхней границы зарплатной вилки. Округлите значения до целого."
      ]
    },
    {
      "cell_type": "code",
      "execution_count": 82,
      "id": "603cdbe4-0ec3-4106-8eaf-c73fcdd29165",
      "metadata": {
        "id": "603cdbe4-0ec3-4106-8eaf-c73fcdd29165"
      },
      "outputs": [],
      "source": [
        "# текст запроса\n",
        "# текст запроса\n",
        "query_4_3= f'''\n",
        "            SELECT \n",
        "                round(AVG(salary_from)) avg_salary_from,\n",
        "                round(AVG(salary_to)) avg_salary_to\n",
        "            FROM vacancies  \n",
        "            '''\n"
      ]
    },
    {
      "cell_type": "code",
      "execution_count": 83,
      "id": "pswpAb66ovZZ",
      "metadata": {
        "id": "pswpAb66ovZZ"
      },
      "outputs": [
        {
          "name": "stderr",
          "output_type": "stream",
          "text": [
            "C:\\Users\\maxim\\AppData\\Local\\Temp\\ipykernel_1856\\327040603.py:2: UserWarning: pandas only supports SQLAlchemy connectable (engine/connection) or database string URI or sqlite3 DBAPI2 connection. Other DBAPI2 objects are not tested. Please consider using SQLAlchemy.\n",
            "  df = pd.read_sql_query(query_4_3, connection)\n"
          ]
        },
        {
          "data": {
            "text/html": [
              "<div>\n",
              "<style scoped>\n",
              "    .dataframe tbody tr th:only-of-type {\n",
              "        vertical-align: middle;\n",
              "    }\n",
              "\n",
              "    .dataframe tbody tr th {\n",
              "        vertical-align: top;\n",
              "    }\n",
              "\n",
              "    .dataframe thead th {\n",
              "        text-align: right;\n",
              "    }\n",
              "</style>\n",
              "<table border=\"1\" class=\"dataframe\">\n",
              "  <thead>\n",
              "    <tr style=\"text-align: right;\">\n",
              "      <th></th>\n",
              "      <th>avg_salary_from</th>\n",
              "      <th>avg_salary_to</th>\n",
              "    </tr>\n",
              "  </thead>\n",
              "  <tbody>\n",
              "    <tr>\n",
              "      <th>0</th>\n",
              "      <td>71065.0</td>\n",
              "      <td>110537.0</td>\n",
              "    </tr>\n",
              "  </tbody>\n",
              "</table>\n",
              "</div>"
            ],
            "text/plain": [
              "   avg_salary_from  avg_salary_to\n",
              "0          71065.0       110537.0"
            ]
          },
          "metadata": {},
          "output_type": "display_data"
        }
      ],
      "source": [
        "# результат запроса\n",
        "df = pd.read_sql_query(query_4_3, connection)\n",
        "display(df)"
      ]
    },
    {
      "cell_type": "markdown",
      "id": "f3fdaec9-5fd3-4260-9cf5-1d7406b628a5",
      "metadata": {
        "id": "f3fdaec9-5fd3-4260-9cf5-1d7406b628a5"
      },
      "source": [
        "4. Напишите запрос, который выведет количество вакансий для каждого сочетания типа рабочего графика (schedule) и типа трудоустройства (employment), используемого в вакансиях. Результат отсортируйте по убыванию количества.\n"
      ]
    },
    {
      "cell_type": "code",
      "execution_count": 84,
      "id": "1ea710ec-871b-431e-9462-c7d0fd87011b",
      "metadata": {
        "id": "1ea710ec-871b-431e-9462-c7d0fd87011b"
      },
      "outputs": [],
      "source": [
        "# текст запроса\n",
        "query_4_4= f'''\n",
        "            SELECT \n",
        "                schedule || ' - ' || employment combination,\n",
        "                COUNT(id)\n",
        "            FROM vacancies \n",
        "            GROUP BY schedule, employment\n",
        "            ORDER BY 2 DESC\n",
        "            OFFSET 1 LIMIT 1\n",
        "            '''\n"
      ]
    },
    {
      "cell_type": "code",
      "execution_count": 85,
      "id": "lGUVqavdo4JQ",
      "metadata": {
        "id": "lGUVqavdo4JQ"
      },
      "outputs": [
        {
          "name": "stderr",
          "output_type": "stream",
          "text": [
            "C:\\Users\\maxim\\AppData\\Local\\Temp\\ipykernel_1856\\3274844153.py:2: UserWarning: pandas only supports SQLAlchemy connectable (engine/connection) or database string URI or sqlite3 DBAPI2 connection. Other DBAPI2 objects are not tested. Please consider using SQLAlchemy.\n",
            "  df = pd.read_sql_query(query_4_4, connection)\n"
          ]
        },
        {
          "data": {
            "text/html": [
              "<div>\n",
              "<style scoped>\n",
              "    .dataframe tbody tr th:only-of-type {\n",
              "        vertical-align: middle;\n",
              "    }\n",
              "\n",
              "    .dataframe tbody tr th {\n",
              "        vertical-align: top;\n",
              "    }\n",
              "\n",
              "    .dataframe thead th {\n",
              "        text-align: right;\n",
              "    }\n",
              "</style>\n",
              "<table border=\"1\" class=\"dataframe\">\n",
              "  <thead>\n",
              "    <tr style=\"text-align: right;\">\n",
              "      <th></th>\n",
              "      <th>combination</th>\n",
              "      <th>count</th>\n",
              "    </tr>\n",
              "  </thead>\n",
              "  <tbody>\n",
              "    <tr>\n",
              "      <th>0</th>\n",
              "      <td>Удаленная работа - Полная занятость</td>\n",
              "      <td>7802</td>\n",
              "    </tr>\n",
              "  </tbody>\n",
              "</table>\n",
              "</div>"
            ],
            "text/plain": [
              "                           combination  count\n",
              "0  Удаленная работа - Полная занятость   7802"
            ]
          },
          "metadata": {},
          "output_type": "display_data"
        }
      ],
      "source": [
        "# результат запроса\n",
        "df = pd.read_sql_query(query_4_4, connection)\n",
        "display(df)"
      ]
    },
    {
      "cell_type": "markdown",
      "id": "0136ffee-0ead-4a6b-b608-61d1c753a438",
      "metadata": {
        "id": "0136ffee-0ead-4a6b-b608-61d1c753a438"
      },
      "source": [
        "5. Напишите запрос, выводящий значения поля Требуемый опыт работы (experience) в порядке возрастания количества вакансий, в которых указан данный вариант опыта. "
      ]
    },
    {
      "cell_type": "code",
      "execution_count": 86,
      "id": "5b3a8e79-f7ab-4008-b767-12aea3a205ea",
      "metadata": {
        "id": "5b3a8e79-f7ab-4008-b767-12aea3a205ea"
      },
      "outputs": [],
      "source": [
        "# текст запроса\n",
        "query_4_5= f'''\n",
        "            SELECT \n",
        "                experience,\n",
        "                COUNT(id)\n",
        "            FROM vacancies \n",
        "            GROUP BY experience\n",
        "            ORDER BY 2 \n",
        "            '''\n"
      ]
    },
    {
      "cell_type": "code",
      "execution_count": 87,
      "id": "3Is64Y-hpDpq",
      "metadata": {
        "id": "3Is64Y-hpDpq"
      },
      "outputs": [
        {
          "name": "stderr",
          "output_type": "stream",
          "text": [
            "C:\\Users\\maxim\\AppData\\Local\\Temp\\ipykernel_1856\\969833449.py:2: UserWarning: pandas only supports SQLAlchemy connectable (engine/connection) or database string URI or sqlite3 DBAPI2 connection. Other DBAPI2 objects are not tested. Please consider using SQLAlchemy.\n",
            "  df = pd.read_sql_query(query_4_5, connection)\n"
          ]
        },
        {
          "data": {
            "text/html": [
              "<div>\n",
              "<style scoped>\n",
              "    .dataframe tbody tr th:only-of-type {\n",
              "        vertical-align: middle;\n",
              "    }\n",
              "\n",
              "    .dataframe tbody tr th {\n",
              "        vertical-align: top;\n",
              "    }\n",
              "\n",
              "    .dataframe thead th {\n",
              "        text-align: right;\n",
              "    }\n",
              "</style>\n",
              "<table border=\"1\" class=\"dataframe\">\n",
              "  <thead>\n",
              "    <tr style=\"text-align: right;\">\n",
              "      <th></th>\n",
              "      <th>experience</th>\n",
              "      <th>count</th>\n",
              "    </tr>\n",
              "  </thead>\n",
              "  <tbody>\n",
              "    <tr>\n",
              "      <th>0</th>\n",
              "      <td>Более 6 лет</td>\n",
              "      <td>1337</td>\n",
              "    </tr>\n",
              "    <tr>\n",
              "      <th>1</th>\n",
              "      <td>Нет опыта</td>\n",
              "      <td>7197</td>\n",
              "    </tr>\n",
              "    <tr>\n",
              "      <th>2</th>\n",
              "      <td>От 3 до 6 лет</td>\n",
              "      <td>14511</td>\n",
              "    </tr>\n",
              "    <tr>\n",
              "      <th>3</th>\n",
              "      <td>От 1 года до 3 лет</td>\n",
              "      <td>26152</td>\n",
              "    </tr>\n",
              "  </tbody>\n",
              "</table>\n",
              "</div>"
            ],
            "text/plain": [
              "           experience  count\n",
              "0         Более 6 лет   1337\n",
              "1           Нет опыта   7197\n",
              "2       От 3 до 6 лет  14511\n",
              "3  От 1 года до 3 лет  26152"
            ]
          },
          "metadata": {},
          "output_type": "display_data"
        }
      ],
      "source": [
        "# результат запроса\n",
        "df = pd.read_sql_query(query_4_5, connection)\n",
        "display(df)"
      ]
    },
    {
      "attachments": {},
      "cell_type": "markdown",
      "id": "de723509",
      "metadata": {},
      "source": [
        "---\n",
        "#### Дополнительные запросы для дополнения выводов по блоку"
      ]
    },
    {
      "attachments": {},
      "cell_type": "markdown",
      "id": "48951c15",
      "metadata": {},
      "source": [
        "Выясним дополнительно сколько вакансий приходится на топ 15 городов"
      ]
    },
    {
      "cell_type": "code",
      "execution_count": 88,
      "id": "8bcd02c7",
      "metadata": {},
      "outputs": [
        {
          "name": "stderr",
          "output_type": "stream",
          "text": [
            "C:\\Users\\maxim\\AppData\\Local\\Temp\\ipykernel_1856\\3902446055.py:27: UserWarning: pandas only supports SQLAlchemy connectable (engine/connection) or database string URI or sqlite3 DBAPI2 connection. Other DBAPI2 objects are not tested. Please consider using SQLAlchemy.\n",
            "  df = pd.read_sql_query(query_4_6, connection)\n"
          ]
        },
        {
          "data": {
            "text/html": [
              "<div>\n",
              "<style scoped>\n",
              "    .dataframe tbody tr th:only-of-type {\n",
              "        vertical-align: middle;\n",
              "    }\n",
              "\n",
              "    .dataframe tbody tr th {\n",
              "        vertical-align: top;\n",
              "    }\n",
              "\n",
              "    .dataframe thead th {\n",
              "        text-align: right;\n",
              "    }\n",
              "</style>\n",
              "<table border=\"1\" class=\"dataframe\">\n",
              "  <thead>\n",
              "    <tr style=\"text-align: right;\">\n",
              "      <th></th>\n",
              "      <th>area</th>\n",
              "      <th>cnt</th>\n",
              "    </tr>\n",
              "  </thead>\n",
              "  <tbody>\n",
              "    <tr>\n",
              "      <th>0</th>\n",
              "      <td>total</td>\n",
              "      <td>26154.0</td>\n",
              "    </tr>\n",
              "    <tr>\n",
              "      <th>1</th>\n",
              "      <td>Москва</td>\n",
              "      <td>5333.0</td>\n",
              "    </tr>\n",
              "    <tr>\n",
              "      <th>2</th>\n",
              "      <td>Санкт-Петербург</td>\n",
              "      <td>2851.0</td>\n",
              "    </tr>\n",
              "    <tr>\n",
              "      <th>3</th>\n",
              "      <td>Минск</td>\n",
              "      <td>2112.0</td>\n",
              "    </tr>\n",
              "    <tr>\n",
              "      <th>4</th>\n",
              "      <td>Новосибирск</td>\n",
              "      <td>2006.0</td>\n",
              "    </tr>\n",
              "    <tr>\n",
              "      <th>5</th>\n",
              "      <td>Алматы</td>\n",
              "      <td>1892.0</td>\n",
              "    </tr>\n",
              "    <tr>\n",
              "      <th>6</th>\n",
              "      <td>Екатеринбург</td>\n",
              "      <td>1698.0</td>\n",
              "    </tr>\n",
              "    <tr>\n",
              "      <th>7</th>\n",
              "      <td>Нижний Новгород</td>\n",
              "      <td>1670.0</td>\n",
              "    </tr>\n",
              "    <tr>\n",
              "      <th>8</th>\n",
              "      <td>Казань</td>\n",
              "      <td>1415.0</td>\n",
              "    </tr>\n",
              "    <tr>\n",
              "      <th>9</th>\n",
              "      <td>Краснодар</td>\n",
              "      <td>1301.0</td>\n",
              "    </tr>\n",
              "    <tr>\n",
              "      <th>10</th>\n",
              "      <td>Самара</td>\n",
              "      <td>1144.0</td>\n",
              "    </tr>\n",
              "    <tr>\n",
              "      <th>11</th>\n",
              "      <td>Ростов-на-Дону</td>\n",
              "      <td>1131.0</td>\n",
              "    </tr>\n",
              "    <tr>\n",
              "      <th>12</th>\n",
              "      <td>Воронеж</td>\n",
              "      <td>1063.0</td>\n",
              "    </tr>\n",
              "    <tr>\n",
              "      <th>13</th>\n",
              "      <td>Ташкент</td>\n",
              "      <td>851.0</td>\n",
              "    </tr>\n",
              "    <tr>\n",
              "      <th>14</th>\n",
              "      <td>Красноярск</td>\n",
              "      <td>847.0</td>\n",
              "    </tr>\n",
              "    <tr>\n",
              "      <th>15</th>\n",
              "      <td>Нур-Султан</td>\n",
              "      <td>840.0</td>\n",
              "    </tr>\n",
              "  </tbody>\n",
              "</table>\n",
              "</div>"
            ],
            "text/plain": [
              "               area      cnt\n",
              "0             total  26154.0\n",
              "1            Москва   5333.0\n",
              "2   Санкт-Петербург   2851.0\n",
              "3             Минск   2112.0\n",
              "4       Новосибирск   2006.0\n",
              "5            Алматы   1892.0\n",
              "6      Екатеринбург   1698.0\n",
              "7   Нижний Новгород   1670.0\n",
              "8            Казань   1415.0\n",
              "9         Краснодар   1301.0\n",
              "10           Самара   1144.0\n",
              "11   Ростов-на-Дону   1131.0\n",
              "12          Воронеж   1063.0\n",
              "13          Ташкент    851.0\n",
              "14       Красноярск    847.0\n",
              "15       Нур-Султан    840.0"
            ]
          },
          "metadata": {},
          "output_type": "display_data"
        }
      ],
      "source": [
        "# текст запроса\n",
        "\n",
        "query_4_6= f'''\n",
        "            WITH x AS(\n",
        "                SELECT \n",
        "                    a.name area,\n",
        "                    COUNT(v.id) cnt\n",
        "                FROM vacancies v \n",
        "                JOIN areas a ON a.id = v.area_id\n",
        "                GROUP BY a.id\n",
        "                ORDER BY 2 DESC \n",
        "                LIMIT 15\n",
        "            )\n",
        "\n",
        "            SELECT *\n",
        "            FROM x \n",
        "\n",
        "            UNION ALL\n",
        "\n",
        "            SELECT         -- просуммируем число вакансий для топ 15 городов - total\n",
        "                'total',\n",
        "                sum(cnt)\n",
        "            FROM x\n",
        "            ORDER BY 2 DESC\n",
        "            '''\n",
        "            \n",
        "df = pd.read_sql_query(query_4_6, connection)\n",
        "display(df)"
      ]
    },
    {
      "cell_type": "markdown",
      "id": "oq2b7n1QpIka",
      "metadata": {
        "id": "oq2b7n1QpIka"
      },
      "source": [
        "***"
      ]
    },
    {
      "attachments": {},
      "cell_type": "markdown",
      "id": "e91f87ed-e25c-4f96-9f92-b642e8c0b4fa",
      "metadata": {
        "id": "e91f87ed-e25c-4f96-9f92-b642e8c0b4fa"
      },
      "source": [
        "#### Выводы по детальному анализу вакансий\n",
        "\n",
        "По результатам запросов мы узнали, что:\n",
        "* В топ 5 по количеству вакансий входят: Москва, Питер, Минск, Новосибирск и Алматы. По этой выборке видно, что количество вакансий прямо пропорционально населению города (-13, 5.3, 2, 1.6, 2.1 млн. чел соответственно), единственный город, который из закономерности выбивается это Алматы, скорее всего это связано, что в Казахстане есть аналогичный популярные площадки по размещению вакансий, конкурирующие с hh и оттягивающие часть работодателей и соискателей на себя.\n",
        "* Только в 24 073 вакансий из 49 197 заполнено хотя бы одно из двух полей с зарплатой (меньше половины), хоть данная тенденция - не озвучивать уровень предлагаемой зарплаты, усложняет процесс выбора подходящих вакансий для соискателей, так как человек не может сразу, до собеседований, отбросить не устраивающие его варианты, это дает возможность работодателю более гибко подстраивать предложение по зарплате по итогам собеседования конкретному кандидату и не раскрывать публично уровень ЗП, который часто является коммерческой тайной. \n",
        "* Хотя в нашей выборке есть несколько городов из СНГ, для приблизительной оценки возьмем, что по данным РОССТАТА средняя зарплата в России за 2023 год ‒ 56 201 рублей, по результату же нашего запроса мы видим что средний показатель вилок - от 71065 до 110537 руб. Сделав дополнительный запрос 4_6, мы видим что на топ 15 городов по количеству вакансий приходится больше половины от общего числа, при том что по населению это меньше 20% (если брать отдельно только российские города), поэтому наше среднее значение сдвигается в большую сторону отражая больше уровень зарплат в городах миллионниках (а оно к примеру по данным за 22 год в Москве 128 т.руб, а в Питере 85 т.руб), чем в среднем по России. Это может быть связано с тем, что в городах миллионниках больше быстрорастущих компаний с большим числом вакансий, весь топ-менеджмент большинства крупных компаний сидит в основном в Москве, а также в них люди чаще меняют работу - больше вакансий с высоким уровнем ЗП двигает средний показатель ЗП вверх. Плюс в больших городах люди чаще используют интернет площадки для поиска вакансий, чем рост внутри компании или трудоустройство по знакомству. Также стоит отметить что обычно работодатели начинают чаще указывать примерный уровень ЗП на более высоких позициях (чтобы заинтересовать специалистов более высокого уровня), чем на начальных с низкой ЗП.\n",
        "* По нашему запросу самое популярное сочетание типа рабочего графика - это \"Полный день - Полная занятость\" с количеством вакансий больше 35 000 (то есть больше 70%) - классический рабочий график, второе место, с 7802 вакансии занимает \"Удаленная работа - Полная занятость\" - не удивительно, учитывая что по прошлому блоку запросов мы выяснили, что из 5 компаний по числу вакансий 3 это IT и телеком компании - Яндекс, СБЕР и РТК.\n",
        "  Самые непопулярные сочетания - это \"Вахтовый метод - Проектная работа\" и \"Сменный график - Проектная работа\" - достаточно редкие и узкопрофильные сочетания.\n",
        "* Значения поля \"Требуемый опыт работы (experience)\" расположилось в порядке возрастания числа вакансий - \"Более 6 лет — Нет опыта — От 3 до 6 лет — От 1 года до 3 лет\", как правило в первые годы чаще всего наблюдается быстрый карьерный рост и смена мест работы - соответственно и больше текучка кадров  и освобождающихся вакансий - молодые люди начинают строить свою карьеру, после чего, с увеличением опыта люди как правило больше сидят на одном месте, так как, кто-то достигает желаемых сфер-должностей-заработных плат, а кто то смещает фокус на семью и личную жизнь. Также обычно вакансии на высокие должности занимают люли из этой же компании, и их не размещают на площадках в интернете. \n",
        "  Что же касается значения \"Нет опыта\", часто работодатели даже на базовых вакансиях указывают от 1 до 3 лет, а для людей совсем без опыта после учебы предлагают сначала программы стажировок.\n"
      ]
    },
    {
      "cell_type": "markdown",
      "id": "7ea20ab6-04a7-40a0-adec-443a0e5a42c3",
      "metadata": {
        "id": "7ea20ab6-04a7-40a0-adec-443a0e5a42c3"
      },
      "source": [
        "# Юнит 5. Анализ работодателей"
      ]
    },
    {
      "cell_type": "markdown",
      "id": "968aed80-74ef-4ffb-b5bf-c65b84e9caea",
      "metadata": {
        "id": "968aed80-74ef-4ffb-b5bf-c65b84e9caea"
      },
      "source": [
        "1. Напишите запрос, который позволит узнать, какие работодатели находятся на первом и пятом месте по количеству вакансий."
      ]
    },
    {
      "cell_type": "code",
      "execution_count": 89,
      "id": "f2d62796-d400-4ec1-a675-88112739a50e",
      "metadata": {
        "id": "f2d62796-d400-4ec1-a675-88112739a50e"
      },
      "outputs": [],
      "source": [
        "# текст запроса\n",
        "\n",
        "query_5_1= f'''\n",
        "                WITH x AS (                 -- выделим отдельно сам запрос по ТОП работодателей по\n",
        "                                            -- числу вакансий для улучшения читаемости кода\n",
        "\n",
        "                    SELECT  \n",
        "                        e.name employer,\n",
        "                        COUNT(v.id)\n",
        "                    FROM vacancies v\n",
        "                    JOIN employers e ON v.employer_id = e.id\n",
        "                    GROUP BY e.id\n",
        "                    ORDER BY COUNT(v.id) DESC\n",
        "                    )\n",
        "\n",
        "            \n",
        "                (\n",
        "                SELECT * , '1 место'as position\n",
        "                FROM x\n",
        "                LIMIT 1\n",
        "                )\n",
        "                UNION  ALL \n",
        "                (\n",
        "                SELECT * , '5 место'\n",
        "                FROM x\n",
        "                OFFSET 4 LIMIT 1\n",
        "                )\n",
        "            '''\n"
      ]
    },
    {
      "cell_type": "code",
      "execution_count": 90,
      "id": "64tOMkAxqkQk",
      "metadata": {
        "id": "64tOMkAxqkQk"
      },
      "outputs": [
        {
          "name": "stderr",
          "output_type": "stream",
          "text": [
            "C:\\Users\\maxim\\AppData\\Local\\Temp\\ipykernel_1856\\1127888558.py:2: UserWarning: pandas only supports SQLAlchemy connectable (engine/connection) or database string URI or sqlite3 DBAPI2 connection. Other DBAPI2 objects are not tested. Please consider using SQLAlchemy.\n",
            "  df = pd.read_sql_query(query_5_1, connection)\n"
          ]
        },
        {
          "data": {
            "text/html": [
              "<div>\n",
              "<style scoped>\n",
              "    .dataframe tbody tr th:only-of-type {\n",
              "        vertical-align: middle;\n",
              "    }\n",
              "\n",
              "    .dataframe tbody tr th {\n",
              "        vertical-align: top;\n",
              "    }\n",
              "\n",
              "    .dataframe thead th {\n",
              "        text-align: right;\n",
              "    }\n",
              "</style>\n",
              "<table border=\"1\" class=\"dataframe\">\n",
              "  <thead>\n",
              "    <tr style=\"text-align: right;\">\n",
              "      <th></th>\n",
              "      <th>employer</th>\n",
              "      <th>count</th>\n",
              "      <th>position</th>\n",
              "    </tr>\n",
              "  </thead>\n",
              "  <tbody>\n",
              "    <tr>\n",
              "      <th>0</th>\n",
              "      <td>Яндекс</td>\n",
              "      <td>1933</td>\n",
              "      <td>1 место</td>\n",
              "    </tr>\n",
              "    <tr>\n",
              "      <th>1</th>\n",
              "      <td>Газпром нефть</td>\n",
              "      <td>331</td>\n",
              "      <td>5 место</td>\n",
              "    </tr>\n",
              "  </tbody>\n",
              "</table>\n",
              "</div>"
            ],
            "text/plain": [
              "        employer  count position\n",
              "0         Яндекс   1933  1 место\n",
              "1  Газпром нефть    331  5 место"
            ]
          },
          "metadata": {},
          "output_type": "display_data"
        }
      ],
      "source": [
        "# результат запроса\n",
        "df = pd.read_sql_query(query_5_1, connection)\n",
        "display(df)"
      ]
    },
    {
      "cell_type": "markdown",
      "id": "68377cfc-b378-43dc-ab7d-1195abf2c515",
      "metadata": {
        "id": "68377cfc-b378-43dc-ab7d-1195abf2c515"
      },
      "source": [
        "2. Напишите запрос, который для каждого региона выведет количество работодателей и вакансий в нём.\n",
        "Среди регионов, в которых нет вакансий, найдите тот, в котором наибольшее количество работодателей.\n"
      ]
    },
    {
      "cell_type": "code",
      "execution_count": 91,
      "id": "dd7df27a-e3e8-412e-a21a-5d389b71e891",
      "metadata": {
        "id": "dd7df27a-e3e8-412e-a21a-5d389b71e891"
      },
      "outputs": [],
      "source": [
        "# текст запроса\n",
        "query_5_2= f'''\n",
        "                SELECT            \n",
        "                    region,\n",
        "                    vacancies_cnt,\n",
        "                    employers_cnt\n",
        "                \n",
        "                FROM (         -- сначала получим количество вакансий для каждого региона\n",
        "                    SELECT \n",
        "                        a.id,\n",
        "                        a.name region,\n",
        "                        COUNT(v.id) vacancies_cnt\n",
        "                    FROM areas a\n",
        "                    LEFT JOIN vacancies v ON a.id = v.area_id\n",
        "                    GROUP BY a.id\n",
        "                    ) area_vacancies\n",
        "                    \n",
        "                    -- теперь соединим с количеством компаний зарегистрированных в конкретном регионе\n",
        "                LEFT JOIN (  \n",
        "                        SELECT \n",
        "                            area,\n",
        "                            COUNT(id) employers_cnt\n",
        "                        FROM employers\n",
        "                        GROUP BY area) e \n",
        "                    ON e.area = area_vacancies.id\n",
        "                WHERE vacancies_cnt = 0\n",
        "                ORDER BY employers_cnt DESC NULLS LAST\n",
        "                LIMIT 10\n",
        "            '''"
      ]
    },
    {
      "cell_type": "code",
      "execution_count": 92,
      "id": "x1ikWbydrbf6",
      "metadata": {
        "id": "x1ikWbydrbf6"
      },
      "outputs": [
        {
          "name": "stderr",
          "output_type": "stream",
          "text": [
            "C:\\Users\\maxim\\AppData\\Local\\Temp\\ipykernel_1856\\2002098862.py:2: UserWarning: pandas only supports SQLAlchemy connectable (engine/connection) or database string URI or sqlite3 DBAPI2 connection. Other DBAPI2 objects are not tested. Please consider using SQLAlchemy.\n",
            "  df = pd.read_sql_query(query_5_2, connection)\n"
          ]
        },
        {
          "data": {
            "text/html": [
              "<div>\n",
              "<style scoped>\n",
              "    .dataframe tbody tr th:only-of-type {\n",
              "        vertical-align: middle;\n",
              "    }\n",
              "\n",
              "    .dataframe tbody tr th {\n",
              "        vertical-align: top;\n",
              "    }\n",
              "\n",
              "    .dataframe thead th {\n",
              "        text-align: right;\n",
              "    }\n",
              "</style>\n",
              "<table border=\"1\" class=\"dataframe\">\n",
              "  <thead>\n",
              "    <tr style=\"text-align: right;\">\n",
              "      <th></th>\n",
              "      <th>region</th>\n",
              "      <th>vacancies_cnt</th>\n",
              "      <th>employers_cnt</th>\n",
              "    </tr>\n",
              "  </thead>\n",
              "  <tbody>\n",
              "    <tr>\n",
              "      <th>0</th>\n",
              "      <td>Россия</td>\n",
              "      <td>0</td>\n",
              "      <td>410</td>\n",
              "    </tr>\n",
              "    <tr>\n",
              "      <th>1</th>\n",
              "      <td>Казахстан</td>\n",
              "      <td>0</td>\n",
              "      <td>207</td>\n",
              "    </tr>\n",
              "    <tr>\n",
              "      <th>2</th>\n",
              "      <td>Московская область</td>\n",
              "      <td>0</td>\n",
              "      <td>75</td>\n",
              "    </tr>\n",
              "    <tr>\n",
              "      <th>3</th>\n",
              "      <td>Краснодарский край</td>\n",
              "      <td>0</td>\n",
              "      <td>19</td>\n",
              "    </tr>\n",
              "    <tr>\n",
              "      <th>4</th>\n",
              "      <td>Беларусь</td>\n",
              "      <td>0</td>\n",
              "      <td>18</td>\n",
              "    </tr>\n",
              "    <tr>\n",
              "      <th>5</th>\n",
              "      <td>Ростовская область</td>\n",
              "      <td>0</td>\n",
              "      <td>18</td>\n",
              "    </tr>\n",
              "    <tr>\n",
              "      <th>6</th>\n",
              "      <td>Азербайджан</td>\n",
              "      <td>0</td>\n",
              "      <td>17</td>\n",
              "    </tr>\n",
              "    <tr>\n",
              "      <th>7</th>\n",
              "      <td>Нижегородская область</td>\n",
              "      <td>0</td>\n",
              "      <td>16</td>\n",
              "    </tr>\n",
              "    <tr>\n",
              "      <th>8</th>\n",
              "      <td>Республика Татарстан</td>\n",
              "      <td>0</td>\n",
              "      <td>16</td>\n",
              "    </tr>\n",
              "    <tr>\n",
              "      <th>9</th>\n",
              "      <td>Узбекистан</td>\n",
              "      <td>0</td>\n",
              "      <td>15</td>\n",
              "    </tr>\n",
              "  </tbody>\n",
              "</table>\n",
              "</div>"
            ],
            "text/plain": [
              "                  region  vacancies_cnt  employers_cnt\n",
              "0                 Россия              0            410\n",
              "1              Казахстан              0            207\n",
              "2     Московская область              0             75\n",
              "3     Краснодарский край              0             19\n",
              "4               Беларусь              0             18\n",
              "5     Ростовская область              0             18\n",
              "6            Азербайджан              0             17\n",
              "7  Нижегородская область              0             16\n",
              "8   Республика Татарстан              0             16\n",
              "9             Узбекистан              0             15"
            ]
          },
          "metadata": {},
          "output_type": "display_data"
        }
      ],
      "source": [
        "# результат запроса\n",
        "df = pd.read_sql_query(query_5_2, connection)\n",
        "display(df)"
      ]
    },
    {
      "cell_type": "markdown",
      "id": "f2fe0acb-ab1a-4e15-9326-2560e22d73c1",
      "metadata": {
        "id": "f2fe0acb-ab1a-4e15-9326-2560e22d73c1"
      },
      "source": [
        "3. Для каждого работодателя посчитайте количество регионов, в которых он публикует свои вакансии. Отсортируйте результат по убыванию количества.\n"
      ]
    },
    {
      "cell_type": "code",
      "execution_count": 93,
      "id": "6271f8ad-bd2e-4196-ae4a-5b39c4c1010e",
      "metadata": {
        "id": "6271f8ad-bd2e-4196-ae4a-5b39c4c1010e"
      },
      "outputs": [],
      "source": [
        "# текст запроса\n",
        "query_5_3= f'''\n",
        "                SELECT \n",
        "                    employer_id,\n",
        "                    COUNT(DISTINCT area_id) vac_areas_cnt\n",
        "                FROM vacancies v\n",
        "                GROUP BY employer_id\n",
        "                ORDER BY 2 DESC\n",
        "            '''\n",
        "            \n",
        "# для ответа на вопрос \"Выберите максимальное значение из получившегося списка.\" не требуется имя компании,\n",
        "# если бы оно все таки было нужно запрос бы выглядил так:\n",
        "\n",
        "query_5_3_additional= f'''\n",
        "                            SELECT \n",
        "                                employer_id,\n",
        "                                e.name,\n",
        "                                COUNT(DISTINCT area_id) vac_areas_cnt\n",
        "                            FROM vacancies v\n",
        "                            JOIN employers e ON e.id = v.employer_id\n",
        "                            GROUP BY v.employer_id, e.name\n",
        "                            ORDER BY 3 DESC\n",
        "                        '''"
      ]
    },
    {
      "cell_type": "code",
      "execution_count": 94,
      "id": "1EIvX3HasH4F",
      "metadata": {
        "id": "1EIvX3HasH4F"
      },
      "outputs": [
        {
          "name": "stderr",
          "output_type": "stream",
          "text": [
            "C:\\Users\\maxim\\AppData\\Local\\Temp\\ipykernel_1856\\3953667891.py:2: UserWarning: pandas only supports SQLAlchemy connectable (engine/connection) or database string URI or sqlite3 DBAPI2 connection. Other DBAPI2 objects are not tested. Please consider using SQLAlchemy.\n",
            "  df = pd.read_sql_query(query_5_3, connection)\n"
          ]
        },
        {
          "data": {
            "text/html": [
              "<div>\n",
              "<style scoped>\n",
              "    .dataframe tbody tr th:only-of-type {\n",
              "        vertical-align: middle;\n",
              "    }\n",
              "\n",
              "    .dataframe tbody tr th {\n",
              "        vertical-align: top;\n",
              "    }\n",
              "\n",
              "    .dataframe thead th {\n",
              "        text-align: right;\n",
              "    }\n",
              "</style>\n",
              "<table border=\"1\" class=\"dataframe\">\n",
              "  <thead>\n",
              "    <tr style=\"text-align: right;\">\n",
              "      <th></th>\n",
              "      <th>employer_id</th>\n",
              "      <th>vac_areas_cnt</th>\n",
              "    </tr>\n",
              "  </thead>\n",
              "  <tbody>\n",
              "    <tr>\n",
              "      <th>0</th>\n",
              "      <td>1740</td>\n",
              "      <td>181</td>\n",
              "    </tr>\n",
              "    <tr>\n",
              "      <th>1</th>\n",
              "      <td>2748</td>\n",
              "      <td>152</td>\n",
              "    </tr>\n",
              "    <tr>\n",
              "      <th>2</th>\n",
              "      <td>5724811</td>\n",
              "      <td>116</td>\n",
              "    </tr>\n",
              "    <tr>\n",
              "      <th>3</th>\n",
              "      <td>5130287</td>\n",
              "      <td>88</td>\n",
              "    </tr>\n",
              "    <tr>\n",
              "      <th>4</th>\n",
              "      <td>3682876</td>\n",
              "      <td>71</td>\n",
              "    </tr>\n",
              "    <tr>\n",
              "      <th>...</th>\n",
              "      <td>...</td>\n",
              "      <td>...</td>\n",
              "    </tr>\n",
              "    <tr>\n",
              "      <th>14901</th>\n",
              "      <td>810278</td>\n",
              "      <td>1</td>\n",
              "    </tr>\n",
              "    <tr>\n",
              "      <th>14902</th>\n",
              "      <td>810313</td>\n",
              "      <td>1</td>\n",
              "    </tr>\n",
              "    <tr>\n",
              "      <th>14903</th>\n",
              "      <td>810551</td>\n",
              "      <td>1</td>\n",
              "    </tr>\n",
              "    <tr>\n",
              "      <th>14904</th>\n",
              "      <td>810688</td>\n",
              "      <td>1</td>\n",
              "    </tr>\n",
              "    <tr>\n",
              "      <th>14905</th>\n",
              "      <td>811902</td>\n",
              "      <td>1</td>\n",
              "    </tr>\n",
              "  </tbody>\n",
              "</table>\n",
              "<p>14906 rows × 2 columns</p>\n",
              "</div>"
            ],
            "text/plain": [
              "       employer_id  vac_areas_cnt\n",
              "0             1740            181\n",
              "1             2748            152\n",
              "2          5724811            116\n",
              "3          5130287             88\n",
              "4          3682876             71\n",
              "...            ...            ...\n",
              "14901       810278              1\n",
              "14902       810313              1\n",
              "14903       810551              1\n",
              "14904       810688              1\n",
              "14905       811902              1\n",
              "\n",
              "[14906 rows x 2 columns]"
            ]
          },
          "metadata": {},
          "output_type": "display_data"
        }
      ],
      "source": [
        "# результат запроса\n",
        "df = pd.read_sql_query(query_5_3, connection)\n",
        "display(df)"
      ]
    },
    {
      "cell_type": "markdown",
      "id": "eab2206d-d95b-468b-8e5f-34381abf0ce7",
      "metadata": {
        "id": "eab2206d-d95b-468b-8e5f-34381abf0ce7"
      },
      "source": [
        "4. Напишите запрос для подсчёта количества работодателей, у которых не указана сфера деятельности. "
      ]
    },
    {
      "cell_type": "code",
      "execution_count": 95,
      "id": "80defb23-bfb1-4a18-8be6-bf36aa7165d5",
      "metadata": {
        "id": "80defb23-bfb1-4a18-8be6-bf36aa7165d5"
      },
      "outputs": [],
      "source": [
        "# текст запроса\n",
        "query_5_4= f'''\n",
        "                SELECT \n",
        "                    COUNT(e.id)\n",
        "                FROM employers e \n",
        "                LEFT JOIN employers_industries e_i ON e_i.employer_id = e.id\n",
        "                WHERE e_i.industry_id IS NULL\n",
        "            '''"
      ]
    },
    {
      "cell_type": "code",
      "execution_count": 96,
      "id": "Dp_yCx6ysQSu",
      "metadata": {
        "id": "Dp_yCx6ysQSu"
      },
      "outputs": [
        {
          "name": "stderr",
          "output_type": "stream",
          "text": [
            "C:\\Users\\maxim\\AppData\\Local\\Temp\\ipykernel_1856\\375529716.py:2: UserWarning: pandas only supports SQLAlchemy connectable (engine/connection) or database string URI or sqlite3 DBAPI2 connection. Other DBAPI2 objects are not tested. Please consider using SQLAlchemy.\n",
            "  df = pd.read_sql_query(query_5_4, connection)\n"
          ]
        },
        {
          "data": {
            "text/html": [
              "<div>\n",
              "<style scoped>\n",
              "    .dataframe tbody tr th:only-of-type {\n",
              "        vertical-align: middle;\n",
              "    }\n",
              "\n",
              "    .dataframe tbody tr th {\n",
              "        vertical-align: top;\n",
              "    }\n",
              "\n",
              "    .dataframe thead th {\n",
              "        text-align: right;\n",
              "    }\n",
              "</style>\n",
              "<table border=\"1\" class=\"dataframe\">\n",
              "  <thead>\n",
              "    <tr style=\"text-align: right;\">\n",
              "      <th></th>\n",
              "      <th>count</th>\n",
              "    </tr>\n",
              "  </thead>\n",
              "  <tbody>\n",
              "    <tr>\n",
              "      <th>0</th>\n",
              "      <td>8419</td>\n",
              "    </tr>\n",
              "  </tbody>\n",
              "</table>\n",
              "</div>"
            ],
            "text/plain": [
              "   count\n",
              "0   8419"
            ]
          },
          "metadata": {},
          "output_type": "display_data"
        }
      ],
      "source": [
        "# результат запроса\n",
        "df = pd.read_sql_query(query_5_4, connection)\n",
        "display(df)"
      ]
    },
    {
      "cell_type": "markdown",
      "id": "0112af31-f6b0-4e3b-82ab-71296e752e5e",
      "metadata": {
        "id": "0112af31-f6b0-4e3b-82ab-71296e752e5e"
      },
      "source": [
        "5. Напишите запрос, чтобы узнать название компании, находящейся на третьем месте в алфавитном списке (по названию) компаний, у которых указано четыре сферы деятельности. "
      ]
    },
    {
      "cell_type": "code",
      "execution_count": 97,
      "id": "973b0cfc-a972-470a-8b4a-68744ef220c4",
      "metadata": {
        "id": "973b0cfc-a972-470a-8b4a-68744ef220c4"
      },
      "outputs": [],
      "source": [
        "# текст запроса\n",
        "\n",
        "query_5_5= f'''\n",
        "                SELECT \n",
        "                    e.name\n",
        "                FROM employers_industries e_i\n",
        "                JOIN employers e ON e.id = e_i.employer_id\n",
        "                GROUP BY e.id\n",
        "                HAVING COUNT(e_i.industry_id) = 4 \n",
        "                ORDER BY 1\n",
        "                OFFSET 2 LIMIT 1\n",
        "            '''"
      ]
    },
    {
      "cell_type": "code",
      "execution_count": 98,
      "id": "xsPtpp8EsaED",
      "metadata": {
        "id": "xsPtpp8EsaED"
      },
      "outputs": [
        {
          "name": "stderr",
          "output_type": "stream",
          "text": [
            "C:\\Users\\maxim\\AppData\\Local\\Temp\\ipykernel_1856\\3277383447.py:2: UserWarning: pandas only supports SQLAlchemy connectable (engine/connection) or database string URI or sqlite3 DBAPI2 connection. Other DBAPI2 objects are not tested. Please consider using SQLAlchemy.\n",
            "  df = pd.read_sql_query(query_5_5, connection)\n"
          ]
        },
        {
          "data": {
            "text/html": [
              "<div>\n",
              "<style scoped>\n",
              "    .dataframe tbody tr th:only-of-type {\n",
              "        vertical-align: middle;\n",
              "    }\n",
              "\n",
              "    .dataframe tbody tr th {\n",
              "        vertical-align: top;\n",
              "    }\n",
              "\n",
              "    .dataframe thead th {\n",
              "        text-align: right;\n",
              "    }\n",
              "</style>\n",
              "<table border=\"1\" class=\"dataframe\">\n",
              "  <thead>\n",
              "    <tr style=\"text-align: right;\">\n",
              "      <th></th>\n",
              "      <th>name</th>\n",
              "    </tr>\n",
              "  </thead>\n",
              "  <tbody>\n",
              "    <tr>\n",
              "      <th>0</th>\n",
              "      <td>2ГИС</td>\n",
              "    </tr>\n",
              "  </tbody>\n",
              "</table>\n",
              "</div>"
            ],
            "text/plain": [
              "   name\n",
              "0  2ГИС"
            ]
          },
          "metadata": {},
          "output_type": "display_data"
        }
      ],
      "source": [
        "# результат запроса\n",
        "df = pd.read_sql_query(query_5_5, connection)\n",
        "display(df)"
      ]
    },
    {
      "cell_type": "markdown",
      "id": "3bfcfdaf-755d-4d2b-8ed8-326201dc07ab",
      "metadata": {
        "id": "3bfcfdaf-755d-4d2b-8ed8-326201dc07ab"
      },
      "source": [
        "6. С помощью запроса выясните, у какого количества работодателей в качестве сферы деятельности указана Разработка программного обеспечения.\n"
      ]
    },
    {
      "cell_type": "code",
      "execution_count": 99,
      "id": "ad3f270f-2991-47eb-929b-e8f88a55b0d1",
      "metadata": {
        "id": "ad3f270f-2991-47eb-929b-e8f88a55b0d1"
      },
      "outputs": [],
      "source": [
        "# текст запроса\n",
        "query_5_6= f'''\n",
        "                SELECT \n",
        "                    COUNT(DISTINCT e_i.employer_id)\n",
        "                FROM employers_industries e_i\n",
        "                JOIN industries i ON i.id = e_i.industry_id\n",
        "                WHERE i.name = 'Разработка программного обеспечения'\n",
        "            '''"
      ]
    },
    {
      "cell_type": "code",
      "execution_count": 100,
      "id": "H72qxWM0shPR",
      "metadata": {
        "id": "H72qxWM0shPR"
      },
      "outputs": [
        {
          "name": "stderr",
          "output_type": "stream",
          "text": [
            "C:\\Users\\maxim\\AppData\\Local\\Temp\\ipykernel_1856\\1761488907.py:2: UserWarning: pandas only supports SQLAlchemy connectable (engine/connection) or database string URI or sqlite3 DBAPI2 connection. Other DBAPI2 objects are not tested. Please consider using SQLAlchemy.\n",
            "  df = pd.read_sql_query(query_5_6, connection)\n"
          ]
        },
        {
          "data": {
            "text/html": [
              "<div>\n",
              "<style scoped>\n",
              "    .dataframe tbody tr th:only-of-type {\n",
              "        vertical-align: middle;\n",
              "    }\n",
              "\n",
              "    .dataframe tbody tr th {\n",
              "        vertical-align: top;\n",
              "    }\n",
              "\n",
              "    .dataframe thead th {\n",
              "        text-align: right;\n",
              "    }\n",
              "</style>\n",
              "<table border=\"1\" class=\"dataframe\">\n",
              "  <thead>\n",
              "    <tr style=\"text-align: right;\">\n",
              "      <th></th>\n",
              "      <th>count</th>\n",
              "    </tr>\n",
              "  </thead>\n",
              "  <tbody>\n",
              "    <tr>\n",
              "      <th>0</th>\n",
              "      <td>3553</td>\n",
              "    </tr>\n",
              "  </tbody>\n",
              "</table>\n",
              "</div>"
            ],
            "text/plain": [
              "   count\n",
              "0   3553"
            ]
          },
          "metadata": {},
          "output_type": "display_data"
        }
      ],
      "source": [
        "# результат запроса\n",
        "df = pd.read_sql_query(query_5_6, connection)\n",
        "display(df)"
      ]
    },
    {
      "cell_type": "markdown",
      "id": "7b02bb86-0546-40fb-94a4-242f050a5c57",
      "metadata": {
        "id": "7b02bb86-0546-40fb-94a4-242f050a5c57"
      },
      "source": [
        "7. Для компании «Яндекс» выведите список регионов-миллионников, в которых представлены вакансии компании, вместе с количеством вакансий в этих регионах. Также добавьте строку Total с общим количеством вакансий компании. Результат отсортируйте по возрастанию количества.\n",
        "\n",
        "Список городов-милионников надо взять [отсюда](https://ru.wikipedia.org/wiki/%D0%93%D0%BE%D1%80%D0%BE%D0%B4%D0%B0-%D0%BC%D0%B8%D0%BB%D0%BB%D0%B8%D0%BE%D0%BD%D0%B5%D1%80%D1%8B_%D0%A0%D0%BE%D1%81%D1%81%D0%B8%D0%B8). \n"
      ]
    },
    {
      "cell_type": "code",
      "execution_count": 101,
      "id": "ZdfrL6gIs1Pn",
      "metadata": {
        "id": "ZdfrL6gIs1Pn"
      },
      "outputs": [
        {
          "data": {
            "text/plain": [
              "\"'Москва', 'Санкт-Петербург', 'Новосибирск', 'Екатеринбург', 'Казань', 'Нижний Новгород', 'Красноярск', 'Челябинск', 'Самара', 'Уфа', 'Ростов-на-Дону', 'Омск', 'Краснодар', 'Воронеж', 'Пермь', 'Волгоград'\""
            ]
          },
          "execution_count": 101,
          "metadata": {},
          "output_type": "execute_result"
        }
      ],
      "source": [
        "# код для получения списка городов-милионников\n",
        "url = 'https://ru.wikipedia.org/wiki/%D0%93%D0%BE%D1%80%D0%BE%D0%B4%D0%B0-%D0%BC%D0%B8%D0%BB%D0%BB%D0%B8%D0%BE%D0%BD%D0%B5%D1%80%D1%8B_%D0%A0%D0%BE%D1%81%D1%81%D0%B8%D0%B8'\n",
        "header={'User-Agent': 'Mozilla/5.0'}\n",
        "response = requests.get(url, headers=header)\n",
        "page = BeautifulSoup(response.text, 'html.parser') \n",
        "cities = []\n",
        "for child in page.find('table', class_='standard sortable').tbody:  \n",
        "     # Перебираем имена ссылок в теле таблицы\n",
        "     # в которых находятся названия городов.\n",
        "     cities.append(child.a.text)\n",
        "del cities[0]   # удаляем заголовок столбца с городами\n",
        "cities = \"'\" + \"', '\".join(cities) + \"'\"  #преобразуем в формат для SQL запроса\n",
        "cities"
      ]
    },
    {
      "cell_type": "code",
      "execution_count": 102,
      "id": "5a0e32a4-e68a-4365-8a39-2fe24c542c36",
      "metadata": {
        "id": "5a0e32a4-e68a-4365-8a39-2fe24c542c36"
      },
      "outputs": [],
      "source": [
        "# текст запроса\n",
        "\n",
        "\n",
        "# удобно было бы для повторяющийся части запроса создать временную таблицу, но нет прав на запись(\n",
        "query_5_7= f'''\n",
        "                WITH id_ya AS (         -- найдем id яндекса в таблице работадатей\n",
        "                    SELECT id \n",
        "                    FROM employers\n",
        "                    WHERE name = 'Яндекс'\n",
        "                )\n",
        "\n",
        "                SELECT                  -- список регионов-миллионников, в которых представлены\n",
        "                                        -- вакансии компании, вместе с количеством вакансий\n",
        "                    a.name,\n",
        "                    COUNT(distinct v.id) cnt \n",
        "                FROM vacancies v \n",
        "                JOIN areas a ON a.id = v.area_id\n",
        "                WHERE a.name IN ({cities}) \n",
        "                    AND v.employer_id = (\n",
        "                                        SELECT * \n",
        "                                        FROM id_ya\n",
        "                                        )\n",
        "                GROUP BY a.name\n",
        "\n",
        "\n",
        "                UNION ALL \n",
        "                                      \n",
        "                SELECT                  -- объединение со строчкой total суммирующей вакансии\n",
        "                    'total',\n",
        "                    SUM(cnt)\n",
        "                FROM (SELECT \n",
        "                    a.name,\n",
        "                    COUNT(distinct v.id) cnt \n",
        "                FROM vacancies v \n",
        "                JOIN areas a ON a.id = v.area_id\n",
        "                WHERE a.name IN ({cities}) \n",
        "                    AND v.employer_id = (\n",
        "                                        SELECT * \n",
        "                                        FROM id_ya\n",
        "                                        )\n",
        "                GROUP BY a.name) yandex\n",
        "                ORDER BY 2\n",
        "            '''\n"
      ]
    },
    {
      "cell_type": "code",
      "execution_count": 103,
      "id": "ttPhiO1rsvPq",
      "metadata": {
        "id": "ttPhiO1rsvPq"
      },
      "outputs": [
        {
          "name": "stderr",
          "output_type": "stream",
          "text": [
            "C:\\Users\\maxim\\AppData\\Local\\Temp\\ipykernel_1856\\4127784153.py:2: UserWarning: pandas only supports SQLAlchemy connectable (engine/connection) or database string URI or sqlite3 DBAPI2 connection. Other DBAPI2 objects are not tested. Please consider using SQLAlchemy.\n",
            "  df = pd.read_sql_query(query_5_7, connection)\n"
          ]
        },
        {
          "data": {
            "text/html": [
              "<div>\n",
              "<style scoped>\n",
              "    .dataframe tbody tr th:only-of-type {\n",
              "        vertical-align: middle;\n",
              "    }\n",
              "\n",
              "    .dataframe tbody tr th {\n",
              "        vertical-align: top;\n",
              "    }\n",
              "\n",
              "    .dataframe thead th {\n",
              "        text-align: right;\n",
              "    }\n",
              "</style>\n",
              "<table border=\"1\" class=\"dataframe\">\n",
              "  <thead>\n",
              "    <tr style=\"text-align: right;\">\n",
              "      <th></th>\n",
              "      <th>name</th>\n",
              "      <th>cnt</th>\n",
              "    </tr>\n",
              "  </thead>\n",
              "  <tbody>\n",
              "    <tr>\n",
              "      <th>0</th>\n",
              "      <td>Омск</td>\n",
              "      <td>21.0</td>\n",
              "    </tr>\n",
              "    <tr>\n",
              "      <th>1</th>\n",
              "      <td>Челябинск</td>\n",
              "      <td>22.0</td>\n",
              "    </tr>\n",
              "    <tr>\n",
              "      <th>2</th>\n",
              "      <td>Красноярск</td>\n",
              "      <td>23.0</td>\n",
              "    </tr>\n",
              "    <tr>\n",
              "      <th>3</th>\n",
              "      <td>Волгоград</td>\n",
              "      <td>24.0</td>\n",
              "    </tr>\n",
              "    <tr>\n",
              "      <th>4</th>\n",
              "      <td>Пермь</td>\n",
              "      <td>25.0</td>\n",
              "    </tr>\n",
              "    <tr>\n",
              "      <th>5</th>\n",
              "      <td>Казань</td>\n",
              "      <td>25.0</td>\n",
              "    </tr>\n",
              "    <tr>\n",
              "      <th>6</th>\n",
              "      <td>Ростов-на-Дону</td>\n",
              "      <td>25.0</td>\n",
              "    </tr>\n",
              "    <tr>\n",
              "      <th>7</th>\n",
              "      <td>Самара</td>\n",
              "      <td>26.0</td>\n",
              "    </tr>\n",
              "    <tr>\n",
              "      <th>8</th>\n",
              "      <td>Уфа</td>\n",
              "      <td>26.0</td>\n",
              "    </tr>\n",
              "    <tr>\n",
              "      <th>9</th>\n",
              "      <td>Краснодар</td>\n",
              "      <td>30.0</td>\n",
              "    </tr>\n",
              "    <tr>\n",
              "      <th>10</th>\n",
              "      <td>Воронеж</td>\n",
              "      <td>32.0</td>\n",
              "    </tr>\n",
              "    <tr>\n",
              "      <th>11</th>\n",
              "      <td>Новосибирск</td>\n",
              "      <td>35.0</td>\n",
              "    </tr>\n",
              "    <tr>\n",
              "      <th>12</th>\n",
              "      <td>Нижний Новгород</td>\n",
              "      <td>36.0</td>\n",
              "    </tr>\n",
              "    <tr>\n",
              "      <th>13</th>\n",
              "      <td>Екатеринбург</td>\n",
              "      <td>39.0</td>\n",
              "    </tr>\n",
              "    <tr>\n",
              "      <th>14</th>\n",
              "      <td>Санкт-Петербург</td>\n",
              "      <td>42.0</td>\n",
              "    </tr>\n",
              "    <tr>\n",
              "      <th>15</th>\n",
              "      <td>Москва</td>\n",
              "      <td>54.0</td>\n",
              "    </tr>\n",
              "    <tr>\n",
              "      <th>16</th>\n",
              "      <td>total</td>\n",
              "      <td>485.0</td>\n",
              "    </tr>\n",
              "  </tbody>\n",
              "</table>\n",
              "</div>"
            ],
            "text/plain": [
              "               name    cnt\n",
              "0              Омск   21.0\n",
              "1         Челябинск   22.0\n",
              "2        Красноярск   23.0\n",
              "3         Волгоград   24.0\n",
              "4             Пермь   25.0\n",
              "5            Казань   25.0\n",
              "6    Ростов-на-Дону   25.0\n",
              "7            Самара   26.0\n",
              "8               Уфа   26.0\n",
              "9         Краснодар   30.0\n",
              "10          Воронеж   32.0\n",
              "11      Новосибирск   35.0\n",
              "12  Нижний Новгород   36.0\n",
              "13     Екатеринбург   39.0\n",
              "14  Санкт-Петербург   42.0\n",
              "15           Москва   54.0\n",
              "16            total  485.0"
            ]
          },
          "metadata": {},
          "output_type": "display_data"
        }
      ],
      "source": [
        "# результат запроса\n",
        "df = pd.read_sql_query(query_5_7, connection)\n",
        "display(df)"
      ]
    },
    {
      "attachments": {},
      "cell_type": "markdown",
      "id": "e2734bca",
      "metadata": {},
      "source": [
        "---\n",
        "#### Дополнительные запросы для дополнения выводов по блоку"
      ]
    },
    {
      "attachments": {},
      "cell_type": "markdown",
      "id": "09846d79",
      "metadata": {},
      "source": [
        "запрос на подчет, какое количество работодателей разместили ровно 1 ваканчию"
      ]
    },
    {
      "cell_type": "code",
      "execution_count": 104,
      "id": "598e0ef1",
      "metadata": {},
      "outputs": [
        {
          "name": "stderr",
          "output_type": "stream",
          "text": [
            "C:\\Users\\maxim\\AppData\\Local\\Temp\\ipykernel_1856\\923331115.py:18: UserWarning: pandas only supports SQLAlchemy connectable (engine/connection) or database string URI or sqlite3 DBAPI2 connection. Other DBAPI2 objects are not tested. Please consider using SQLAlchemy.\n",
            "  df = pd.read_sql_query(query_5_8, connection)\n"
          ]
        },
        {
          "data": {
            "text/html": [
              "<div>\n",
              "<style scoped>\n",
              "    .dataframe tbody tr th:only-of-type {\n",
              "        vertical-align: middle;\n",
              "    }\n",
              "\n",
              "    .dataframe tbody tr th {\n",
              "        vertical-align: top;\n",
              "    }\n",
              "\n",
              "    .dataframe thead th {\n",
              "        text-align: right;\n",
              "    }\n",
              "</style>\n",
              "<table border=\"1\" class=\"dataframe\">\n",
              "  <thead>\n",
              "    <tr style=\"text-align: right;\">\n",
              "      <th></th>\n",
              "      <th>count</th>\n",
              "    </tr>\n",
              "  </thead>\n",
              "  <tbody>\n",
              "    <tr>\n",
              "      <th>0</th>\n",
              "      <td>8699</td>\n",
              "    </tr>\n",
              "  </tbody>\n",
              "</table>\n",
              "</div>"
            ],
            "text/plain": [
              "   count\n",
              "0   8699"
            ]
          },
          "metadata": {},
          "output_type": "display_data"
        }
      ],
      "source": [
        "query_5_8 = f'''\n",
        "                WITH x AS (                 -- переиспользуем уже написанный в задании 5_1 запрос\n",
        "                    SELECT  \n",
        "                        e.name employer ,\n",
        "                        COUNT(v.id) cnt\n",
        "                    FROM vacancies v\n",
        "                    JOIN employers e ON v.employer_id = e.id\n",
        "                    GROUP BY e.id\n",
        "                    ORDER BY COUNT(v.id) DESC\n",
        "                    )\n",
        "                \n",
        "                SELECT \n",
        "                    COUNT(*)\n",
        "                FROM x\n",
        "                WHERE cnt=1\n",
        "            '''\n",
        "\n",
        "df = pd.read_sql_query(query_5_8, connection)\n",
        "display(df)"
      ]
    },
    {
      "attachments": {},
      "cell_type": "markdown",
      "id": "52328d80",
      "metadata": {},
      "source": [
        "Узнаем к запросу 5_3 дополнительно, название компаний и число регионов в которых они публикуют вакансии"
      ]
    },
    {
      "cell_type": "code",
      "execution_count": 105,
      "id": "f5e0f489",
      "metadata": {},
      "outputs": [
        {
          "name": "stderr",
          "output_type": "stream",
          "text": [
            "C:\\Users\\maxim\\AppData\\Local\\Temp\\ipykernel_1856\\3553919113.py:12: UserWarning: pandas only supports SQLAlchemy connectable (engine/connection) or database string URI or sqlite3 DBAPI2 connection. Other DBAPI2 objects are not tested. Please consider using SQLAlchemy.\n",
            "  df = pd.read_sql_query(query_5_3_additional, connection)\n"
          ]
        },
        {
          "data": {
            "text/html": [
              "<div>\n",
              "<style scoped>\n",
              "    .dataframe tbody tr th:only-of-type {\n",
              "        vertical-align: middle;\n",
              "    }\n",
              "\n",
              "    .dataframe tbody tr th {\n",
              "        vertical-align: top;\n",
              "    }\n",
              "\n",
              "    .dataframe thead th {\n",
              "        text-align: right;\n",
              "    }\n",
              "</style>\n",
              "<table border=\"1\" class=\"dataframe\">\n",
              "  <thead>\n",
              "    <tr style=\"text-align: right;\">\n",
              "      <th></th>\n",
              "      <th>employer_id</th>\n",
              "      <th>name</th>\n",
              "      <th>vac_areas_cnt</th>\n",
              "    </tr>\n",
              "  </thead>\n",
              "  <tbody>\n",
              "    <tr>\n",
              "      <th>0</th>\n",
              "      <td>1740</td>\n",
              "      <td>Яндекс</td>\n",
              "      <td>181</td>\n",
              "    </tr>\n",
              "    <tr>\n",
              "      <th>1</th>\n",
              "      <td>2748</td>\n",
              "      <td>Ростелеком</td>\n",
              "      <td>152</td>\n",
              "    </tr>\n",
              "    <tr>\n",
              "      <th>2</th>\n",
              "      <td>5724811</td>\n",
              "      <td>Спецремонт</td>\n",
              "      <td>116</td>\n",
              "    </tr>\n",
              "    <tr>\n",
              "      <th>3</th>\n",
              "      <td>5130287</td>\n",
              "      <td>Поляков Денис Иванович</td>\n",
              "      <td>88</td>\n",
              "    </tr>\n",
              "    <tr>\n",
              "      <th>4</th>\n",
              "      <td>3682876</td>\n",
              "      <td>ООО ЕФИН</td>\n",
              "      <td>71</td>\n",
              "    </tr>\n",
              "    <tr>\n",
              "      <th>...</th>\n",
              "      <td>...</td>\n",
              "      <td>...</td>\n",
              "      <td>...</td>\n",
              "    </tr>\n",
              "    <tr>\n",
              "      <th>14901</th>\n",
              "      <td>810278</td>\n",
              "      <td>НПП Авиатрон</td>\n",
              "      <td>1</td>\n",
              "    </tr>\n",
              "    <tr>\n",
              "      <th>14902</th>\n",
              "      <td>810313</td>\n",
              "      <td>Центр дистанционных торгов</td>\n",
              "      <td>1</td>\n",
              "    </tr>\n",
              "    <tr>\n",
              "      <th>14903</th>\n",
              "      <td>810551</td>\n",
              "      <td>Городские Телекоммуникационные Системы</td>\n",
              "      <td>1</td>\n",
              "    </tr>\n",
              "    <tr>\n",
              "      <th>14904</th>\n",
              "      <td>810688</td>\n",
              "      <td>Введенский, Отель</td>\n",
              "      <td>1</td>\n",
              "    </tr>\n",
              "    <tr>\n",
              "      <th>14905</th>\n",
              "      <td>811902</td>\n",
              "      <td>Группа Компаний Автоимпорт</td>\n",
              "      <td>1</td>\n",
              "    </tr>\n",
              "  </tbody>\n",
              "</table>\n",
              "<p>14906 rows × 3 columns</p>\n",
              "</div>"
            ],
            "text/plain": [
              "       employer_id                                    name  vac_areas_cnt\n",
              "0             1740                                  Яндекс            181\n",
              "1             2748                              Ростелеком            152\n",
              "2          5724811                              Спецремонт            116\n",
              "3          5130287                  Поляков Денис Иванович             88\n",
              "4          3682876                               ООО ЕФИН              71\n",
              "...            ...                                     ...            ...\n",
              "14901       810278                            НПП Авиатрон              1\n",
              "14902       810313              Центр дистанционных торгов              1\n",
              "14903       810551  Городские Телекоммуникационные Системы              1\n",
              "14904       810688                       Введенский, Отель              1\n",
              "14905       811902              Группа Компаний Автоимпорт              1\n",
              "\n",
              "[14906 rows x 3 columns]"
            ]
          },
          "metadata": {},
          "output_type": "display_data"
        }
      ],
      "source": [
        "query_5_3_additional= f'''\n",
        "                            SELECT \n",
        "                                employer_id,\n",
        "                                e.name,\n",
        "                                COUNT(DISTINCT area_id) vac_areas_cnt\n",
        "                            FROM vacancies v\n",
        "                            JOIN employers e ON e.id = v.employer_id\n",
        "                            GROUP BY v.employer_id, e.name\n",
        "                            ORDER BY 3 DESC\n",
        "                        '''\n",
        "\n",
        "df = pd.read_sql_query(query_5_3_additional, connection)\n",
        "display(df)"
      ]
    },
    {
      "attachments": {},
      "cell_type": "markdown",
      "id": "6d3bd9c3",
      "metadata": {},
      "source": [
        "Узнаем распределние количества компаний по признаку \"Количество сфер деятельности\""
      ]
    },
    {
      "cell_type": "code",
      "execution_count": 106,
      "id": "bae9d4f0",
      "metadata": {},
      "outputs": [
        {
          "name": "stderr",
          "output_type": "stream",
          "text": [
            "C:\\Users\\maxim\\AppData\\Local\\Temp\\ipykernel_1856\\3368861108.py:22: UserWarning: pandas only supports SQLAlchemy connectable (engine/connection) or database string URI or sqlite3 DBAPI2 connection. Other DBAPI2 objects are not tested. Please consider using SQLAlchemy.\n",
            "  df = pd.read_sql_query(query_5_9, connection)\n"
          ]
        },
        {
          "data": {
            "text/html": [
              "<div>\n",
              "<style scoped>\n",
              "    .dataframe tbody tr th:only-of-type {\n",
              "        vertical-align: middle;\n",
              "    }\n",
              "\n",
              "    .dataframe tbody tr th {\n",
              "        vertical-align: top;\n",
              "    }\n",
              "\n",
              "    .dataframe thead th {\n",
              "        text-align: right;\n",
              "    }\n",
              "</style>\n",
              "<table border=\"1\" class=\"dataframe\">\n",
              "  <thead>\n",
              "    <tr style=\"text-align: right;\">\n",
              "      <th></th>\n",
              "      <th>count</th>\n",
              "      <th>n_industries</th>\n",
              "    </tr>\n",
              "  </thead>\n",
              "  <tbody>\n",
              "    <tr>\n",
              "      <th>0</th>\n",
              "      <td>0</td>\n",
              "      <td>8</td>\n",
              "    </tr>\n",
              "    <tr>\n",
              "      <th>1</th>\n",
              "      <td>0</td>\n",
              "      <td>6</td>\n",
              "    </tr>\n",
              "    <tr>\n",
              "      <th>2</th>\n",
              "      <td>0</td>\n",
              "      <td>7</td>\n",
              "    </tr>\n",
              "    <tr>\n",
              "      <th>3</th>\n",
              "      <td>1138</td>\n",
              "      <td>4</td>\n",
              "    </tr>\n",
              "    <tr>\n",
              "      <th>4</th>\n",
              "      <td>1246</td>\n",
              "      <td>5</td>\n",
              "    </tr>\n",
              "    <tr>\n",
              "      <th>5</th>\n",
              "      <td>2607</td>\n",
              "      <td>3</td>\n",
              "    </tr>\n",
              "    <tr>\n",
              "      <th>6</th>\n",
              "      <td>3639</td>\n",
              "      <td>2</td>\n",
              "    </tr>\n",
              "    <tr>\n",
              "      <th>7</th>\n",
              "      <td>6452</td>\n",
              "      <td>1</td>\n",
              "    </tr>\n",
              "  </tbody>\n",
              "</table>\n",
              "</div>"
            ],
            "text/plain": [
              "   count n_industries\n",
              "0      0            8\n",
              "1      0            6\n",
              "2      0            7\n",
              "3   1138            4\n",
              "4   1246            5\n",
              "5   2607            3\n",
              "6   3639            2\n",
              "7   6452            1"
            ]
          },
          "metadata": {},
          "output_type": "display_data"
        }
      ],
      "source": [
        "query_5_9 = ''\n",
        "n = 8\n",
        "for i in range(1,n+1):\n",
        "    query_5_9 += f'''\n",
        "                    SELECT \n",
        "                        COUNT(name),\n",
        "                        '{i}' N_industries\n",
        "                    FROM(\n",
        "                        SELECT \n",
        "                            e.name\n",
        "                        FROM employers_industries e_i\n",
        "                        JOIN employers e ON e.id = e_i.employer_id\n",
        "                        GROUP BY e.id\n",
        "                        HAVING COUNT(e_i.industry_id) = {i} \n",
        "                        ) x{i}\n",
        "    '''\n",
        "    if i<n:\n",
        "        query_5_9+=\" UNION ALL \"\n",
        "    else:\n",
        "        query_5_9+=\"ORDER BY 1\"\n",
        "        \n",
        "df = pd.read_sql_query(query_5_9, connection)\n",
        "display(df)"
      ]
    },
    {
      "attachments": {},
      "cell_type": "markdown",
      "id": "c3ee09d9",
      "metadata": {},
      "source": [
        "Посмотрим на топ сфер деятельности по количеству работодателей в них"
      ]
    },
    {
      "cell_type": "code",
      "execution_count": 107,
      "id": "07034126",
      "metadata": {},
      "outputs": [
        {
          "name": "stderr",
          "output_type": "stream",
          "text": [
            "C:\\Users\\maxim\\AppData\\Local\\Temp\\ipykernel_1856\\766467408.py:13: UserWarning: pandas only supports SQLAlchemy connectable (engine/connection) or database string URI or sqlite3 DBAPI2 connection. Other DBAPI2 objects are not tested. Please consider using SQLAlchemy.\n",
            "  df = pd.read_sql_query(query_5_10, connection)\n"
          ]
        },
        {
          "data": {
            "text/html": [
              "<div>\n",
              "<style scoped>\n",
              "    .dataframe tbody tr th:only-of-type {\n",
              "        vertical-align: middle;\n",
              "    }\n",
              "\n",
              "    .dataframe tbody tr th {\n",
              "        vertical-align: top;\n",
              "    }\n",
              "\n",
              "    .dataframe thead th {\n",
              "        text-align: right;\n",
              "    }\n",
              "</style>\n",
              "<table border=\"1\" class=\"dataframe\">\n",
              "  <thead>\n",
              "    <tr style=\"text-align: right;\">\n",
              "      <th></th>\n",
              "      <th>name</th>\n",
              "      <th>count</th>\n",
              "    </tr>\n",
              "  </thead>\n",
              "  <tbody>\n",
              "    <tr>\n",
              "      <th>0</th>\n",
              "      <td>Разработка программного обеспечения</td>\n",
              "      <td>3553</td>\n",
              "    </tr>\n",
              "    <tr>\n",
              "      <th>1</th>\n",
              "      <td>Системная интеграция,  автоматизации технологи...</td>\n",
              "      <td>2993</td>\n",
              "    </tr>\n",
              "    <tr>\n",
              "      <th>2</th>\n",
              "      <td>Интернет-компания (поисковики, платежные систе...</td>\n",
              "      <td>1675</td>\n",
              "    </tr>\n",
              "    <tr>\n",
              "      <th>3</th>\n",
              "      <td>Маркетинговые, рекламные, BTL, дизайнерские, E...</td>\n",
              "      <td>798</td>\n",
              "    </tr>\n",
              "    <tr>\n",
              "      <th>4</th>\n",
              "      <td>Консалтинговые услуги</td>\n",
              "      <td>662</td>\n",
              "    </tr>\n",
              "    <tr>\n",
              "      <th>...</th>\n",
              "      <td>...</td>\n",
              "      <td>...</td>\n",
              "    </tr>\n",
              "    <tr>\n",
              "      <th>289</th>\n",
              "      <td>Ритуальные услуги</td>\n",
              "      <td>4</td>\n",
              "    </tr>\n",
              "    <tr>\n",
              "      <th>290</th>\n",
              "      <td>Благотворительная организация</td>\n",
              "      <td>4</td>\n",
              "    </tr>\n",
              "    <tr>\n",
              "      <th>291</th>\n",
              "      <td>Автошкола</td>\n",
              "      <td>3</td>\n",
              "    </tr>\n",
              "    <tr>\n",
              "      <th>292</th>\n",
              "      <td>Ботанический сад, зоопарк, заповедник</td>\n",
              "      <td>3</td>\n",
              "    </tr>\n",
              "    <tr>\n",
              "      <th>293</th>\n",
              "      <td>Ассоциация в сфере культуры, искусства</td>\n",
              "      <td>1</td>\n",
              "    </tr>\n",
              "  </tbody>\n",
              "</table>\n",
              "<p>294 rows × 2 columns</p>\n",
              "</div>"
            ],
            "text/plain": [
              "                                                  name  count\n",
              "0                  Разработка программного обеспечения   3553\n",
              "1    Системная интеграция,  автоматизации технологи...   2993\n",
              "2    Интернет-компания (поисковики, платежные систе...   1675\n",
              "3    Маркетинговые, рекламные, BTL, дизайнерские, E...    798\n",
              "4                                Консалтинговые услуги    662\n",
              "..                                                 ...    ...\n",
              "289                                  Ритуальные услуги      4\n",
              "290                      Благотворительная организация      4\n",
              "291                                          Автошкола      3\n",
              "292              Ботанический сад, зоопарк, заповедник      3\n",
              "293             Ассоциация в сфере культуры, искусства      1\n",
              "\n",
              "[294 rows x 2 columns]"
            ]
          },
          "metadata": {},
          "output_type": "display_data"
        }
      ],
      "source": [
        "# текст запроса\n",
        "query_5_10= f'''\n",
        "                SELECT \n",
        "                    i.name,\n",
        "                    COUNT(DISTINCT e_i.employer_id)\n",
        "                FROM employers_industries e_i\n",
        "                JOIN industries i ON i.id = e_i.industry_id\n",
        "                GROUP BY i.id\n",
        "                ORDER BY 2 DESC\n",
        "            '''\n",
        "\n",
        "# результат запроса\n",
        "df = pd.read_sql_query(query_5_10, connection)\n",
        "display(df)"
      ]
    },
    {
      "attachments": {},
      "cell_type": "markdown",
      "id": "a073dacc",
      "metadata": {},
      "source": [
        "---"
      ]
    },
    {
      "attachments": {},
      "cell_type": "markdown",
      "id": "aGGyER-yt4SR",
      "metadata": {
        "id": "aGGyER-yt4SR"
      },
      "source": [
        "#### Выводы по детальному анализу работодателей\n",
        "\n",
        "По результатам запросов мы узнали, что:\n",
        "* 1 место по количеству вакансий занимает Яндекс, причем примерно в 4 раза обгоняя вторую компанию в ТОПе - Ростелеком. В результате запроса, если не ограничиваться первой и 5 позицией получаем примерно 14.9к работодателей, у которых размещена хотя бы одна вакансия. Также интересно отметить что медианное значения числа вакансий размещенных конкретным работодателем равно \"1\", причем, выполнив дополнительный запрос 5_8, получаем, что 8699 работодателей размещают ровно 1 вакансию.\n",
        "* В результате запроса, мы получаем, что среди регионов, в которых нет вакансий, наибольшее количество работодателей в регионе \"Россия\", однако тут стоит обратить внимание, что под регионом в наших таблицах может быть представлен как город, так и вся область или страна, и на самом деле просто в таблице вакансий почти всегда используют город или иной населенный пункт, а в таблице работодателей достаточно часто встречается страна в качестве региона, поэтому мы и получаем в нашем запросе 5_2, что выборка регионов без вакансий в основном состоит их стран и областей (хотя и есть несколько маленьких населенных пунктов, где действительно нет вакансий).\n",
        "* Больше всего (181) регион размещения вакансий у Яндекса, однако, если посмотреть не только топ 1, а весь результат запроса, видно что списки компаний по количеству регионов размещения вакансий и просто по количеству вакансий сильно различаются, и ТОП 5 компаний по количеству вакансий, который мы получили раньше, за исключением Яндекса, не входят в ТОП по регионам, что говорит о том, что скорее всего деятельность многих крупных компаний сконцентрирована в основном в нескольких крупных городах.\n",
        "* У 8419 работодателей не указана сфера деятельности, учитывая что всего их в нашей таблице 23.5к, это достаточно большая доля пропущенных данных, что может повлиять на возможность использование данного признака для обучения модели.\n",
        "* Сделав дополнительный запрос 5_9, мы видим, что максимальное число сфер деятельности у одной компании - 5, причем количество компаний обратно пропорционально (за исключением примерно одинакового числа для 4 и 5 сфер деятельности) числу указанных для компании сфер деятельности - то есть чаще всего компании специализируются на одной или двух сферах.\n",
        "* По результату запроса 3553 работодателя указали одной из сфер деятельности «Разработка программного обеспечения». Если сделать дополнительный запрос 5_10, то окажется что это сфера заняла 1 место по количеству работодателей, а также что второе и третье место с сильным отрывом также занимают сферы IT - \"Системная интеграция, автоматизации технологических и бизнес-процессов предприятия, ИТ-консалтинг\"  и \"Интернет-компания (поисковики, платежные системы, соц.сети, информационно-познавательные и развлекательные ресурсы, продвижение сайтов и прочее)\", что показывает бурный рост данный сферы.\n",
        "* По полученному числу вакансий размещенных Яндексом в городах миллионниках, можно увидеть, что распределение достаточно равномерное, и хоть население Москвы  более чем в 10, а Санкт-Петербурга в 3 раза превышают население большинства городов из списка, количество вакансий  в них не настолько больше. Это может говорить о развитие компании офисов в других городах, например из-за меньшего уровня ЗП."
      ]
    },
    {
      "cell_type": "markdown",
      "id": "b1ef156a-efcb-49ce-bb23-90763e7f35b2",
      "metadata": {
        "id": "b1ef156a-efcb-49ce-bb23-90763e7f35b2",
        "tags": []
      },
      "source": [
        "# Юнит 6. Предметный анализ"
      ]
    },
    {
      "cell_type": "markdown",
      "id": "b9cd50a0-992d-4988-8463-2b2b1c4629b4",
      "metadata": {
        "id": "b9cd50a0-992d-4988-8463-2b2b1c4629b4"
      },
      "source": [
        "1. Сколько вакансий имеет отношение к данным?\n",
        "\n",
        "Считаем, что вакансия имеет отношение к данным, если в её названии содержатся слова 'data' или 'данн'.\n",
        "\\\n"
      ]
    },
    {
      "cell_type": "code",
      "execution_count": 108,
      "id": "54ab0e50-c0f1-47cc-a54b-bc5c8bc363f9",
      "metadata": {
        "id": "54ab0e50-c0f1-47cc-a54b-bc5c8bc363f9"
      },
      "outputs": [],
      "source": [
        "\n",
        "# текст запроса\n",
        "query_6_1= f'''\n",
        "             SELECT \n",
        "                COUNT(id)\n",
        "            FROM vacancies\n",
        "            WHERE name ILIKE '%data%'\n",
        "                OR name ILIKE '%данн%'   \n",
        "            '''"
      ]
    },
    {
      "cell_type": "code",
      "execution_count": 109,
      "id": "9F1meAqsuUjd",
      "metadata": {
        "id": "9F1meAqsuUjd"
      },
      "outputs": [
        {
          "name": "stderr",
          "output_type": "stream",
          "text": [
            "C:\\Users\\maxim\\AppData\\Local\\Temp\\ipykernel_1856\\2931938894.py:2: UserWarning: pandas only supports SQLAlchemy connectable (engine/connection) or database string URI or sqlite3 DBAPI2 connection. Other DBAPI2 objects are not tested. Please consider using SQLAlchemy.\n",
            "  df = pd.read_sql_query(query_6_1, connection)\n"
          ]
        },
        {
          "data": {
            "text/html": [
              "<div>\n",
              "<style scoped>\n",
              "    .dataframe tbody tr th:only-of-type {\n",
              "        vertical-align: middle;\n",
              "    }\n",
              "\n",
              "    .dataframe tbody tr th {\n",
              "        vertical-align: top;\n",
              "    }\n",
              "\n",
              "    .dataframe thead th {\n",
              "        text-align: right;\n",
              "    }\n",
              "</style>\n",
              "<table border=\"1\" class=\"dataframe\">\n",
              "  <thead>\n",
              "    <tr style=\"text-align: right;\">\n",
              "      <th></th>\n",
              "      <th>count</th>\n",
              "    </tr>\n",
              "  </thead>\n",
              "  <tbody>\n",
              "    <tr>\n",
              "      <th>0</th>\n",
              "      <td>1771</td>\n",
              "    </tr>\n",
              "  </tbody>\n",
              "</table>\n",
              "</div>"
            ],
            "text/plain": [
              "   count\n",
              "0   1771"
            ]
          },
          "metadata": {},
          "output_type": "display_data"
        }
      ],
      "source": [
        "# результат запроса\n",
        "df = pd.read_sql_query(query_6_1, connection)\n",
        "display(df)"
      ]
    },
    {
      "cell_type": "markdown",
      "id": "4dea20cb-a36b-474a-a0b9-e08e8e3857a5",
      "metadata": {
        "id": "4dea20cb-a36b-474a-a0b9-e08e8e3857a5"
      },
      "source": [
        "2. Сколько есть подходящих вакансий для начинающего дата-сайентиста? \n",
        "Будем считать вакансиями для дата-сайентистов такие, в названии которых есть хотя бы одно из следующих сочетаний:\n",
        "* 'data scientist'\n",
        "* 'data science'\n",
        "* 'исследователь данных'\n",
        "* 'ML' (здесь не нужно брать вакансии по HTML)\n",
        "* 'machine learning'\n",
        "* 'машинн%обучен%'\n",
        "\n",
        "** В следующих заданиях мы продолжим работать с вакансиями по этому условию.*\n",
        "\n",
        "Считаем вакансиями для специалистов уровня Junior следующие:\n",
        "* в названии есть слово 'junior' *или*\n",
        "* требуемый опыт — Нет опыта *или*\n",
        "* тип трудоустройства — Стажировка.\n",
        " "
      ]
    },
    {
      "cell_type": "code",
      "execution_count": 110,
      "id": "9c61b3c0-bb66-46c9-ae1e-81d3f5752b4a",
      "metadata": {
        "id": "9c61b3c0-bb66-46c9-ae1e-81d3f5752b4a"
      },
      "outputs": [],
      "source": [
        "# текст запроса\n",
        "query_6_2= '''\n",
        "                SELECT \n",
        "                    COUNT(*)\n",
        "                FROM vacancies\n",
        "                WHERE((name ILIKE any ('\n",
        "                        { %data scientist%, %data science%, %исследователь данных%,\n",
        "                        %machine learning%, %машинн%обучен% }\n",
        "                        '))\n",
        "                        OR  (\n",
        "                            name LIKE '%ML%' \n",
        "                            AND name not LIKE '%HTML%'\n",
        "                        ) \n",
        "                     )\n",
        "                     AND (name ILIKE '%junior%'         -- условия для начинающего специалиста\n",
        "                        OR experience = 'Нет опыта'\n",
        "                        OR employment = 'Стажировка'\n",
        "                        )\n",
        "                       \n",
        "            '''"
      ]
    },
    {
      "cell_type": "code",
      "execution_count": 111,
      "id": "ZNM-LLYuu1dj",
      "metadata": {
        "id": "ZNM-LLYuu1dj"
      },
      "outputs": [
        {
          "name": "stderr",
          "output_type": "stream",
          "text": [
            "C:\\Users\\maxim\\AppData\\Local\\Temp\\ipykernel_1856\\700150659.py:2: UserWarning: pandas only supports SQLAlchemy connectable (engine/connection) or database string URI or sqlite3 DBAPI2 connection. Other DBAPI2 objects are not tested. Please consider using SQLAlchemy.\n",
            "  df = pd.read_sql_query(query_6_2, connection)\n"
          ]
        },
        {
          "data": {
            "text/html": [
              "<div>\n",
              "<style scoped>\n",
              "    .dataframe tbody tr th:only-of-type {\n",
              "        vertical-align: middle;\n",
              "    }\n",
              "\n",
              "    .dataframe tbody tr th {\n",
              "        vertical-align: top;\n",
              "    }\n",
              "\n",
              "    .dataframe thead th {\n",
              "        text-align: right;\n",
              "    }\n",
              "</style>\n",
              "<table border=\"1\" class=\"dataframe\">\n",
              "  <thead>\n",
              "    <tr style=\"text-align: right;\">\n",
              "      <th></th>\n",
              "      <th>count</th>\n",
              "    </tr>\n",
              "  </thead>\n",
              "  <tbody>\n",
              "    <tr>\n",
              "      <th>0</th>\n",
              "      <td>51</td>\n",
              "    </tr>\n",
              "  </tbody>\n",
              "</table>\n",
              "</div>"
            ],
            "text/plain": [
              "   count\n",
              "0     51"
            ]
          },
          "metadata": {},
          "output_type": "display_data"
        }
      ],
      "source": [
        "# результат запроса\n",
        "df = pd.read_sql_query(query_6_2, connection)\n",
        "display(df)"
      ]
    },
    {
      "cell_type": "markdown",
      "id": "eedceb80-c5ca-480e-b27a-278dfb8b4438",
      "metadata": {
        "id": "eedceb80-c5ca-480e-b27a-278dfb8b4438"
      },
      "source": [
        "3. Сколько есть вакансий для DS, в которых в качестве ключевого навыка указан SQL или postgres?\n",
        "\n",
        "** Критерии для отнесения вакансии к DS указаны в предыдущем задании.*"
      ]
    },
    {
      "cell_type": "code",
      "execution_count": 112,
      "id": "69621713-0cc5-4f1b-a1d7-bb144fa6148c",
      "metadata": {
        "id": "69621713-0cc5-4f1b-a1d7-bb144fa6148c"
      },
      "outputs": [],
      "source": [
        "# текст запроса\n",
        "query_6_3= '''\n",
        "                SELECT \n",
        "                    COUNT(*)\n",
        "                FROM vacancies\n",
        "                WHERE((name ILIKE any ('\n",
        "                        { %data scientist%, %data science%, %исследователь данных%,\n",
        "                        %machine learning%, %машинн%обучен% }\n",
        "                        '))\n",
        "                        OR  (\n",
        "                            name LIKE '%ML%' \n",
        "                            AND name not LIKE '%HTML%'\n",
        "                        ) \n",
        "                     )\n",
        "                     AND key_skills ILIKE any ('{%SQL%, %postgres%}')\n",
        "                         \n",
        "            '''"
      ]
    },
    {
      "cell_type": "code",
      "execution_count": 113,
      "id": "alA8WEAAvGdf",
      "metadata": {
        "id": "alA8WEAAvGdf"
      },
      "outputs": [
        {
          "name": "stderr",
          "output_type": "stream",
          "text": [
            "C:\\Users\\maxim\\AppData\\Local\\Temp\\ipykernel_1856\\1206811184.py:2: UserWarning: pandas only supports SQLAlchemy connectable (engine/connection) or database string URI or sqlite3 DBAPI2 connection. Other DBAPI2 objects are not tested. Please consider using SQLAlchemy.\n",
            "  df = pd.read_sql_query(query_6_3, connection)\n"
          ]
        },
        {
          "data": {
            "text/html": [
              "<div>\n",
              "<style scoped>\n",
              "    .dataframe tbody tr th:only-of-type {\n",
              "        vertical-align: middle;\n",
              "    }\n",
              "\n",
              "    .dataframe tbody tr th {\n",
              "        vertical-align: top;\n",
              "    }\n",
              "\n",
              "    .dataframe thead th {\n",
              "        text-align: right;\n",
              "    }\n",
              "</style>\n",
              "<table border=\"1\" class=\"dataframe\">\n",
              "  <thead>\n",
              "    <tr style=\"text-align: right;\">\n",
              "      <th></th>\n",
              "      <th>count</th>\n",
              "    </tr>\n",
              "  </thead>\n",
              "  <tbody>\n",
              "    <tr>\n",
              "      <th>0</th>\n",
              "      <td>201</td>\n",
              "    </tr>\n",
              "  </tbody>\n",
              "</table>\n",
              "</div>"
            ],
            "text/plain": [
              "   count\n",
              "0    201"
            ]
          },
          "metadata": {},
          "output_type": "display_data"
        }
      ],
      "source": [
        "# результат запроса\n",
        "df = pd.read_sql_query(query_6_3, connection)\n",
        "display(df)"
      ]
    },
    {
      "cell_type": "markdown",
      "id": "1be1e9c6-37cf-4a5f-bfeb-04cab799dc80",
      "metadata": {
        "id": "1be1e9c6-37cf-4a5f-bfeb-04cab799dc80"
      },
      "source": [
        "4. Проверьте, насколько популярен Python в требованиях работодателей к DS.Для этого вычислите количество вакансий, в которых в качестве ключевого навыка указан Python.\n",
        "\n"
      ]
    },
    {
      "cell_type": "code",
      "execution_count": 114,
      "id": "0036a355-9ccf-4564-8b01-73d8194297e7",
      "metadata": {
        "id": "0036a355-9ccf-4564-8b01-73d8194297e7"
      },
      "outputs": [],
      "source": [
        "# текст запроса\n",
        "query_6_4= '''\n",
        "                SELECT \n",
        "                    COUNT(*)\n",
        "                FROM vacancies\n",
        "                WHERE((name ILIKE any ('\n",
        "                        { %data scientist%, %data science%, %исследователь данных%,\n",
        "                        %machine learning%, %машинн%обучен% }\n",
        "                        '))\n",
        "                        OR  (\n",
        "                            name LIKE '%ML%' \n",
        "                            AND name not LIKE '%HTML%'\n",
        "                        ) \n",
        "                     )\n",
        "                     AND key_skills ILIKE '%python%'\n",
        "            '''"
      ]
    },
    {
      "cell_type": "code",
      "execution_count": 115,
      "id": "1i-5WyucvQ6v",
      "metadata": {
        "id": "1i-5WyucvQ6v"
      },
      "outputs": [
        {
          "name": "stderr",
          "output_type": "stream",
          "text": [
            "C:\\Users\\maxim\\AppData\\Local\\Temp\\ipykernel_1856\\4143830933.py:2: UserWarning: pandas only supports SQLAlchemy connectable (engine/connection) or database string URI or sqlite3 DBAPI2 connection. Other DBAPI2 objects are not tested. Please consider using SQLAlchemy.\n",
            "  df = pd.read_sql_query(query_6_4, connection)\n"
          ]
        },
        {
          "data": {
            "text/html": [
              "<div>\n",
              "<style scoped>\n",
              "    .dataframe tbody tr th:only-of-type {\n",
              "        vertical-align: middle;\n",
              "    }\n",
              "\n",
              "    .dataframe tbody tr th {\n",
              "        vertical-align: top;\n",
              "    }\n",
              "\n",
              "    .dataframe thead th {\n",
              "        text-align: right;\n",
              "    }\n",
              "</style>\n",
              "<table border=\"1\" class=\"dataframe\">\n",
              "  <thead>\n",
              "    <tr style=\"text-align: right;\">\n",
              "      <th></th>\n",
              "      <th>count</th>\n",
              "    </tr>\n",
              "  </thead>\n",
              "  <tbody>\n",
              "    <tr>\n",
              "      <th>0</th>\n",
              "      <td>351</td>\n",
              "    </tr>\n",
              "  </tbody>\n",
              "</table>\n",
              "</div>"
            ],
            "text/plain": [
              "   count\n",
              "0    351"
            ]
          },
          "metadata": {},
          "output_type": "display_data"
        }
      ],
      "source": [
        "# результат запроса\n",
        "df = pd.read_sql_query(query_6_4, connection)\n",
        "display(df)"
      ]
    },
    {
      "cell_type": "markdown",
      "id": "ec3c8db7-fa21-4a41-a994-1af63742a642",
      "metadata": {
        "id": "ec3c8db7-fa21-4a41-a994-1af63742a642"
      },
      "source": [
        "5. Сколько ключевых навыков в среднем указывают в вакансиях для DS?\n",
        "Ответ округлите до двух знаков после точки-разделителя."
      ]
    },
    {
      "cell_type": "code",
      "execution_count": 116,
      "id": "949132bc-d5b6-4611-8218-0b9a504d74f4",
      "metadata": {
        "id": "949132bc-d5b6-4611-8218-0b9a504d74f4"
      },
      "outputs": [],
      "source": [
        "# текст запроса\n",
        "query_6_5= '''\n",
        "                SELECT \n",
        "                round(\n",
        "                    AVG(\n",
        "                        LENGTH(key_skills) - LENGTH(REPLACE(key_skills, CHR(9),'')) + 1\n",
        "                    )\n",
        "                    ,2)\n",
        "                FROM vacancies\n",
        "                WHERE ((name ILIKE any ('\n",
        "                        { %data scientist%, %data science%, %исследователь данных%,\n",
        "                        %machine learning%, %машинн%обучен% }\n",
        "                        '))\n",
        "                        OR  (\n",
        "                            name LIKE '%ML%' \n",
        "                            AND name not LIKE '%HTML%'\n",
        "                        ))\n",
        "                    AND key_skills IS NOT NULL\n",
        "                     \n",
        "            '''"
      ]
    },
    {
      "cell_type": "code",
      "execution_count": 117,
      "id": "a3V24Tvmviqk",
      "metadata": {
        "id": "a3V24Tvmviqk"
      },
      "outputs": [
        {
          "name": "stderr",
          "output_type": "stream",
          "text": [
            "C:\\Users\\maxim\\AppData\\Local\\Temp\\ipykernel_1856\\3940953658.py:2: UserWarning: pandas only supports SQLAlchemy connectable (engine/connection) or database string URI or sqlite3 DBAPI2 connection. Other DBAPI2 objects are not tested. Please consider using SQLAlchemy.\n",
            "  df = pd.read_sql_query(query_6_5, connection)\n"
          ]
        },
        {
          "data": {
            "text/html": [
              "<div>\n",
              "<style scoped>\n",
              "    .dataframe tbody tr th:only-of-type {\n",
              "        vertical-align: middle;\n",
              "    }\n",
              "\n",
              "    .dataframe tbody tr th {\n",
              "        vertical-align: top;\n",
              "    }\n",
              "\n",
              "    .dataframe thead th {\n",
              "        text-align: right;\n",
              "    }\n",
              "</style>\n",
              "<table border=\"1\" class=\"dataframe\">\n",
              "  <thead>\n",
              "    <tr style=\"text-align: right;\">\n",
              "      <th></th>\n",
              "      <th>round</th>\n",
              "    </tr>\n",
              "  </thead>\n",
              "  <tbody>\n",
              "    <tr>\n",
              "      <th>0</th>\n",
              "      <td>6.41</td>\n",
              "    </tr>\n",
              "  </tbody>\n",
              "</table>\n",
              "</div>"
            ],
            "text/plain": [
              "   round\n",
              "0   6.41"
            ]
          },
          "metadata": {},
          "output_type": "display_data"
        }
      ],
      "source": [
        "# результат запроса\n",
        "df = pd.read_sql_query(query_6_5, connection)\n",
        "display(df)"
      ]
    },
    {
      "cell_type": "markdown",
      "id": "1041c17a-ca8f-4543-a0ca-32778914fb00",
      "metadata": {
        "id": "1041c17a-ca8f-4543-a0ca-32778914fb00"
      },
      "source": [
        "6. Напишите запрос, позволяющий вычислить, какую зарплату для DS в **среднем** указывают для каждого типа требуемого опыта (уникальное значение из поля *experience*). \n",
        "\n",
        "При решении задачи примите во внимание следующее:\n",
        "1. Рассматриваем только вакансии, у которых заполнено хотя бы одно из двух полей с зарплатой.\n",
        "2. Если заполнены оба поля с зарплатой, то считаем зарплату по каждой вакансии как сумму двух полей, делённую на 2. Если заполнено только одно из полей, то его и считаем зарплатой по вакансии.\n",
        "3. Если в расчётах участвует null, в результате он тоже даст null (посмотрите, что возвращает запрос select 1 + null). Чтобы избежать этой ситуацию, мы воспользуемся функцией [coalesce](https://postgrespro.ru/docs/postgresql/9.5/functions-conditional#functions-coalesce-nvl-ifnull), которая заменит null на значение, которое мы передадим. Например, посмотрите, что возвращает запрос `select 1 + coalesce(null, 0)`\n",
        "\n",
        "Выясните, на какую зарплату в среднем может рассчитывать дата-сайентист с опытом работы от 3 до 6 лет. Результат округлите до целого числа. "
      ]
    },
    {
      "cell_type": "code",
      "execution_count": 118,
      "id": "6a743d39-5204-48d3-8271-b9f88e68d40e",
      "metadata": {
        "id": "6a743d39-5204-48d3-8271-b9f88e68d40e"
      },
      "outputs": [],
      "source": [
        "# текст запроса\n",
        "query_6_6= '''\n",
        "                SELECT\n",
        "                experience,\n",
        "                ROUND(\n",
        "                AVG(COALESCE((salary_from+salary_to)/2, salary_to, salary_from)) \n",
        "                ) avg_salary\n",
        "                FROM vacancies\n",
        "                WHERE ((name ILIKE any ('\n",
        "                        { %data scientist%, %data science%, %исследователь данных%,\n",
        "                        %machine learning%, %машинн%обучен% }\n",
        "                        '))\n",
        "                        OR  (\n",
        "                            name LIKE '%ML%' \n",
        "                            AND name not LIKE '%HTML%'\n",
        "                        ))\n",
        "                    AND COALESCE(salary_from, salary_to) IS NOT NULL\n",
        "                GROUP BY experience\n",
        "                     \n",
        "            '''"
      ]
    },
    {
      "cell_type": "code",
      "execution_count": 119,
      "id": "aRIJ0mZEwU1_",
      "metadata": {
        "id": "aRIJ0mZEwU1_"
      },
      "outputs": [
        {
          "name": "stderr",
          "output_type": "stream",
          "text": [
            "C:\\Users\\maxim\\AppData\\Local\\Temp\\ipykernel_1856\\3373444971.py:2: UserWarning: pandas only supports SQLAlchemy connectable (engine/connection) or database string URI or sqlite3 DBAPI2 connection. Other DBAPI2 objects are not tested. Please consider using SQLAlchemy.\n",
            "  df = pd.read_sql_query(query_6_6, connection)\n"
          ]
        },
        {
          "data": {
            "text/html": [
              "<div>\n",
              "<style scoped>\n",
              "    .dataframe tbody tr th:only-of-type {\n",
              "        vertical-align: middle;\n",
              "    }\n",
              "\n",
              "    .dataframe tbody tr th {\n",
              "        vertical-align: top;\n",
              "    }\n",
              "\n",
              "    .dataframe thead th {\n",
              "        text-align: right;\n",
              "    }\n",
              "</style>\n",
              "<table border=\"1\" class=\"dataframe\">\n",
              "  <thead>\n",
              "    <tr style=\"text-align: right;\">\n",
              "      <th></th>\n",
              "      <th>experience</th>\n",
              "      <th>avg_salary</th>\n",
              "    </tr>\n",
              "  </thead>\n",
              "  <tbody>\n",
              "    <tr>\n",
              "      <th>0</th>\n",
              "      <td>Нет опыта</td>\n",
              "      <td>74643.0</td>\n",
              "    </tr>\n",
              "    <tr>\n",
              "      <th>1</th>\n",
              "      <td>От 1 года до 3 лет</td>\n",
              "      <td>139675.0</td>\n",
              "    </tr>\n",
              "    <tr>\n",
              "      <th>2</th>\n",
              "      <td>От 3 до 6 лет</td>\n",
              "      <td>243115.0</td>\n",
              "    </tr>\n",
              "  </tbody>\n",
              "</table>\n",
              "</div>"
            ],
            "text/plain": [
              "           experience  avg_salary\n",
              "0           Нет опыта     74643.0\n",
              "1  От 1 года до 3 лет    139675.0\n",
              "2       От 3 до 6 лет    243115.0"
            ]
          },
          "metadata": {},
          "output_type": "display_data"
        }
      ],
      "source": [
        "# результат запроса\n",
        "df = pd.read_sql_query(query_6_6, connection)\n",
        "display(df)"
      ]
    },
    {
      "attachments": {},
      "cell_type": "markdown",
      "id": "2e547855",
      "metadata": {},
      "source": [
        "---\n",
        "#### Дополнительные запросы для дополнения выводов по блоку"
      ]
    },
    {
      "attachments": {},
      "cell_type": "markdown",
      "id": "933aa738",
      "metadata": {},
      "source": [
        "Проанализируем подробнее вакансии, которые имеют отношение к данным по сферам:\n"
      ]
    },
    {
      "cell_type": "code",
      "execution_count": 120,
      "id": "372cb55d",
      "metadata": {},
      "outputs": [
        {
          "name": "stderr",
          "output_type": "stream",
          "text": [
            "C:\\Users\\maxim\\AppData\\Local\\Temp\\ipykernel_1856\\2739303961.py:51: UserWarning: pandas only supports SQLAlchemy connectable (engine/connection) or database string URI or sqlite3 DBAPI2 connection. Other DBAPI2 objects are not tested. Please consider using SQLAlchemy.\n",
            "  df = pd.read_sql_query(query_6_7, connection)\n"
          ]
        },
        {
          "data": {
            "text/html": [
              "<div>\n",
              "<style scoped>\n",
              "    .dataframe tbody tr th:only-of-type {\n",
              "        vertical-align: middle;\n",
              "    }\n",
              "\n",
              "    .dataframe tbody tr th {\n",
              "        vertical-align: top;\n",
              "    }\n",
              "\n",
              "    .dataframe thead th {\n",
              "        text-align: right;\n",
              "    }\n",
              "</style>\n",
              "<table border=\"1\" class=\"dataframe\">\n",
              "  <thead>\n",
              "    <tr style=\"text-align: right;\">\n",
              "      <th></th>\n",
              "      <th>count</th>\n",
              "      <th>sphere</th>\n",
              "    </tr>\n",
              "  </thead>\n",
              "  <tbody>\n",
              "    <tr>\n",
              "      <th>0</th>\n",
              "      <td>315</td>\n",
              "      <td>data engineer</td>\n",
              "    </tr>\n",
              "    <tr>\n",
              "      <th>1</th>\n",
              "      <td>340</td>\n",
              "      <td>администратор баз данных и хранилищ</td>\n",
              "    </tr>\n",
              "    <tr>\n",
              "      <th>2</th>\n",
              "      <td>480</td>\n",
              "      <td>data science</td>\n",
              "    </tr>\n",
              "    <tr>\n",
              "      <th>3</th>\n",
              "      <td>502</td>\n",
              "      <td>аналитик данных</td>\n",
              "    </tr>\n",
              "  </tbody>\n",
              "</table>\n",
              "</div>"
            ],
            "text/plain": [
              "   count                               sphere\n",
              "0    315                        data engineer\n",
              "1    340  администратор баз данных и хранилищ\n",
              "2    480                         data science\n",
              "3    502                      аналитик данных"
            ]
          },
          "metadata": {},
          "output_type": "display_data"
        }
      ],
      "source": [
        "# текст запроса\n",
        "query_6_7= '''\n",
        "                SELECT \n",
        "                    COUNT(*),\n",
        "                    'data science' sphere\n",
        "                FROM vacancies\n",
        "                WHERE((name ILIKE any ('\n",
        "                        { %data scientist%, %data science%, %исследователь данных%,\n",
        "                        %machine learning%, %машинн%обучен% }\n",
        "                        '))\n",
        "                        OR  (\n",
        "                            name LIKE '%ML%' \n",
        "                            AND name not LIKE '%HTML%'\n",
        "                        ) \n",
        "                     )\n",
        "                \n",
        "                UNION ALL\n",
        "                \n",
        "                SELECT \n",
        "                    COUNT(*),\n",
        "                    'аналитик данных'\n",
        "                FROM vacancies\n",
        "                WHERE name ILIKE any ('\n",
        "                        { %аналитик%данн%, %data%analy% }\n",
        "                        ')\n",
        "        \n",
        "                UNION ALL\n",
        "                \n",
        "                SELECT \n",
        "                    COUNT(*),\n",
        "                    'администратор баз данных и хранилищ'\n",
        "                FROM vacancies\n",
        "                WHERE name ILIKE any ('\n",
        "                        { %баз%данн%, %хранил%дан%, %Databas%Admin%, %админ%данн% }\n",
        "                        ')\n",
        "\n",
        "                UNION ALL\n",
        "                \n",
        "                SELECT \n",
        "                    COUNT(*),\n",
        "                    'data engineer'\n",
        "                FROM vacancies\n",
        "                WHERE name ILIKE any ('\n",
        "                        { %data%engineer%}\n",
        "                        ')\n",
        "                     \n",
        "                ORDER BY 1\n",
        "            '''\n",
        "            \n",
        "# результат запроса\n",
        "df = pd.read_sql_query(query_6_7, connection)\n",
        "display(df)"
      ]
    },
    {
      "attachments": {},
      "cell_type": "markdown",
      "id": "07df4f01",
      "metadata": {},
      "source": [
        "Оценим количество вакансий для DS в разрезе требуемого опыта работы"
      ]
    },
    {
      "cell_type": "code",
      "execution_count": 121,
      "id": "192e1973",
      "metadata": {},
      "outputs": [
        {
          "name": "stderr",
          "output_type": "stream",
          "text": [
            "C:\\Users\\maxim\\AppData\\Local\\Temp\\ipykernel_1856\\472054411.py:22: UserWarning: pandas only supports SQLAlchemy connectable (engine/connection) or database string URI or sqlite3 DBAPI2 connection. Other DBAPI2 objects are not tested. Please consider using SQLAlchemy.\n",
            "  df = pd.read_sql_query(query_6_8, connection)\n"
          ]
        },
        {
          "data": {
            "text/html": [
              "<div>\n",
              "<style scoped>\n",
              "    .dataframe tbody tr th:only-of-type {\n",
              "        vertical-align: middle;\n",
              "    }\n",
              "\n",
              "    .dataframe tbody tr th {\n",
              "        vertical-align: top;\n",
              "    }\n",
              "\n",
              "    .dataframe thead th {\n",
              "        text-align: right;\n",
              "    }\n",
              "</style>\n",
              "<table border=\"1\" class=\"dataframe\">\n",
              "  <thead>\n",
              "    <tr style=\"text-align: right;\">\n",
              "      <th></th>\n",
              "      <th>count</th>\n",
              "      <th>experience</th>\n",
              "    </tr>\n",
              "  </thead>\n",
              "  <tbody>\n",
              "    <tr>\n",
              "      <th>0</th>\n",
              "      <td>28</td>\n",
              "      <td>Нет опыта</td>\n",
              "    </tr>\n",
              "    <tr>\n",
              "      <th>1</th>\n",
              "      <td>34</td>\n",
              "      <td>Более 6 лет</td>\n",
              "    </tr>\n",
              "    <tr>\n",
              "      <th>2</th>\n",
              "      <td>195</td>\n",
              "      <td>От 3 до 6 лет</td>\n",
              "    </tr>\n",
              "    <tr>\n",
              "      <th>3</th>\n",
              "      <td>223</td>\n",
              "      <td>От 1 года до 3 лет</td>\n",
              "    </tr>\n",
              "  </tbody>\n",
              "</table>\n",
              "</div>"
            ],
            "text/plain": [
              "   count          experience\n",
              "0     28           Нет опыта\n",
              "1     34         Более 6 лет\n",
              "2    195       От 3 до 6 лет\n",
              "3    223  От 1 года до 3 лет"
            ]
          },
          "metadata": {},
          "output_type": "display_data"
        }
      ],
      "source": [
        "# текст запроса\n",
        "query_6_8= '''\n",
        "                SELECT \n",
        "                    COUNT(*),\n",
        "                    experience\n",
        "                FROM vacancies\n",
        "                WHERE((name ILIKE any ('\n",
        "                        { %data scientist%, %data science%, %исследователь данных%,\n",
        "                        %machine learning%, %машинн%обучен% }\n",
        "                        '))\n",
        "                        OR  (\n",
        "                            name LIKE '%ML%' \n",
        "                            AND name not LIKE '%HTML%'\n",
        "                        ) \n",
        "                     )\n",
        "                GROUP BY experience\n",
        "                ORDER BY 1\n",
        "    \n",
        "            '''\n",
        "            \n",
        "# результат запроса\n",
        "df = pd.read_sql_query(query_6_8, connection)\n",
        "display(df)"
      ]
    },
    {
      "attachments": {},
      "cell_type": "markdown",
      "id": "1747a7a5",
      "metadata": {},
      "source": [
        "Количество вакансий для начинающих дата-сайентистов, где указада хотябы 1 значения зарплатной вилки"
      ]
    },
    {
      "cell_type": "code",
      "execution_count": 122,
      "id": "0b04b5f0",
      "metadata": {},
      "outputs": [
        {
          "name": "stderr",
          "output_type": "stream",
          "text": [
            "C:\\Users\\maxim\\AppData\\Local\\Temp\\ipykernel_1856\\2822015733.py:41: UserWarning: pandas only supports SQLAlchemy connectable (engine/connection) or database string URI or sqlite3 DBAPI2 connection. Other DBAPI2 objects are not tested. Please consider using SQLAlchemy.\n",
            "  df = pd.read_sql_query(query_6_9, connection)\n"
          ]
        },
        {
          "data": {
            "text/html": [
              "<div>\n",
              "<style scoped>\n",
              "    .dataframe tbody tr th:only-of-type {\n",
              "        vertical-align: middle;\n",
              "    }\n",
              "\n",
              "    .dataframe tbody tr th {\n",
              "        vertical-align: top;\n",
              "    }\n",
              "\n",
              "    .dataframe thead th {\n",
              "        text-align: right;\n",
              "    }\n",
              "</style>\n",
              "<table border=\"1\" class=\"dataframe\">\n",
              "  <thead>\n",
              "    <tr style=\"text-align: right;\">\n",
              "      <th></th>\n",
              "      <th>salary_is_not_null</th>\n",
              "      <th>experience</th>\n",
              "    </tr>\n",
              "  </thead>\n",
              "  <tbody>\n",
              "    <tr>\n",
              "      <th>0</th>\n",
              "      <td>62</td>\n",
              "      <td>всего</td>\n",
              "    </tr>\n",
              "    <tr>\n",
              "      <th>1</th>\n",
              "      <td>9</td>\n",
              "      <td>для начинающих</td>\n",
              "    </tr>\n",
              "  </tbody>\n",
              "</table>\n",
              "</div>"
            ],
            "text/plain": [
              "   salary_is_not_null      experience\n",
              "0                  62           всего\n",
              "1                   9  для начинающих"
            ]
          },
          "metadata": {},
          "output_type": "display_data"
        }
      ],
      "source": [
        "# текст запроса\n",
        "query_6_9= '''\n",
        "                SELECT \n",
        "                    COUNT(*) salary_is_not_null,\n",
        "                    'для начинающих' experience \n",
        "                FROM vacancies\n",
        "                WHERE((name ILIKE any ('\n",
        "                        { %data scientist%, %data science%, %исследователь данных%,\n",
        "                        %machine learning%, %машинн%обучен% }\n",
        "                        '))\n",
        "                        OR  (\n",
        "                            name LIKE '%ML%' \n",
        "                            AND name not LIKE '%HTML%'\n",
        "                        ) \n",
        "                     )\n",
        "                     AND (name ILIKE '%junior%' \n",
        "                        OR experience = 'Нет опыта'\n",
        "                        OR employment = 'Стажировка'\n",
        "                        ) \n",
        "                    AND COALESCE(salary_from, salary_to) IS NOT NULL\n",
        "                \n",
        "                UNION ALL\n",
        "                \n",
        "                SELECT \n",
        "                    COUNT(*),\n",
        "                    'всего'\n",
        "                FROM vacancies\n",
        "                WHERE((name ILIKE any ('\n",
        "                        { %data scientist%, %data science%, %исследователь данных%,\n",
        "                        %machine learning%, %машинн%обучен% }\n",
        "                        '))\n",
        "                        OR  (\n",
        "                            name LIKE '%ML%' \n",
        "                            AND name not LIKE '%HTML%'\n",
        "                        ) \n",
        "                     )\n",
        "                    AND COALESCE(salary_from, salary_to) IS NOT NULL\n",
        "            '''\n",
        "            \n",
        "# результат запроса\n",
        "df = pd.read_sql_query(query_6_9, connection)\n",
        "display(df)"
      ]
    },
    {
      "cell_type": "markdown",
      "id": "6a7892b4-4113-4746-adce-18aa2844f18e",
      "metadata": {
        "id": "6a7892b4-4113-4746-adce-18aa2844f18e"
      },
      "source": [
        "***"
      ]
    },
    {
      "attachments": {},
      "cell_type": "markdown",
      "id": "UjLWUptVwY1o",
      "metadata": {
        "id": "UjLWUptVwY1o"
      },
      "source": [
        "#### Выводы по предметному анализу\n",
        "\n",
        "По результатам запросов мы узнали, что:\n",
        "* 1771 вакансий имеет отношения к данным, что составляет примерно 3,5% от общего числа. Однако маска нашего поиска в первом запросе достаточно общая, так как слово \"данные\" встречается в IT достаточно часто, выполнив дополнительный запрос 6_7, оценим сколько вакансий по чаще всего встречающимся направлениям с ключевым словом \"данн..\" или \"data\". Получаем, что на первом месте вакансии связанные с аналитикой данных с 502 вакансиями, затем 480 вакансий для дата-сайентистов, после идут администраторы баз данных и дата инженеры.\n",
        "* Для начинающих дата-сайентистов подходит 51 вакансия, что составляет примерно 10% от общего числа (480) вакансий в данной сфере. Однако сделав дополнительные запросы с маской по \"middle\" и \"senior\" мы получаем 44 и 63 вакансии соответственно, что покажет нам, что зачастую требуемый уровень работы просто не указан в названии вакансии и его оценка требует дополнительного анализа уже по атрибуту требуемого опыта. Сделав запрос 6_8 и оценив количество вакансий в разрезе требуемого опыта работы, можно сделать вывод, что более 85% вакансий в data science ориентированы на кандидатов с опытом работы от 1 до 6 лет, однако если учитывать, что большинство работодателей, даже на позицию \"junior\", указывают от 1 года опыта работы, можно сказать что и для начинающего дата-сайентиста найдутся вакансии).\n",
        "* Среди вакансий для DS, в 201 был указан в качестве ключевого навыка SQL или Postgres, что говорит о важности умения работы с БД для дата-сайентиста.\n",
        "* Аналогично важно знание Python, он был указан в навыках в более чем 73% вакансий (351 из 480)\n",
        "* В среднем в вакансиях для DS указано 6.41 навыка, что практически равно среднему значению для всех вакансий в 6.37 навыков. Однако так как этот атрибут подразумевает именно ключевые навыки, а не вообще все, по нему нельзя сделать выводы например у каких сфер работы их требуется больше или меньше.\n",
        "* Средний уровень ЗП для DS без опыта работы равен примерно 75к, от 1 до 3 лет 140к, от 3 до 6 - 243. Однако стоит отметить, что доп. запрос 6_9 показывает, что хотя бы одна граница зарплаты указана для 62 вакансий из 480 для DS вообще, и всего для 9 из 51 вакансии для начинающих дата-сайентистов, это достаточно малый процент для точной оценки."
      ]
    },
    {
      "cell_type": "markdown",
      "id": "c0ED6fh7wiBT",
      "metadata": {
        "id": "c0ED6fh7wiBT"
      },
      "source": [
        "# Общий вывод по проекту"
      ]
    },
    {
      "attachments": {},
      "cell_type": "markdown",
      "id": "h9B3BL-wwj18",
      "metadata": {
        "id": "h9B3BL-wwj18"
      },
      "source": [
        "#### подведем итог исследования, обобщите выводы\n",
        "\n",
        "В результате проведенного анализа видно, что\n",
        "\n",
        "* На топ 15 работодателей (запрос 7_2) приходится более 11% от всех вакансий, причем 13 из 15 компаний, так или иначе связаны со сферой IT (либо предоставляют услуги в IT, либо имеют большие IT команды (К примеру Тинькофф или СБЕР)).\n",
        "  \n",
        "  В блоке по детальному анализу вакансий я уже подробно описывал какие чаще всего значения атрибутов в вакансиях встречаются и с чем это может быть связано. Подводя итоги, можно еще раз отметить, что самое популярное сочетание типа рабочего графика - это \"Полный день - Полная занятость\" с количеством вакансий больше 35 000 (то есть больше 70%) - классический рабочий график, второе место, с 7802 вакансии занимает \"Удаленная работа - Полная занятость\" - данный график стал очень популярен у людей после эпидемии, так как он позволяет сочетать работу и личные дела, а также не тратить время на дорогу, а у многих компаний теперь появились технические возможности, для данного типа работы. Чаще всего значение \"Требуемый опыт работы (experience)\" равно От 1 года до 3 лет.\n",
        "\n",
        "* Можно отметить, что больше 40% вакансий приходится на топ 10 городов (доп запрос 7_1). Если посмотреть на количество работодателей в этих городах, то первое место занимает Москва с отрывом от остальных регионов России более чем в 10 раз, так как многие крупные компании, даже те, у кого много сотрудников и представительств в регионах, например горно- и нефтедобывающие, все равно размещают главный офис(и юр. лицо) в Москве. Однако если сравнивать именно количество вакансий, то в Москве их всего в 3-4 раза больше, чем в других городах миллионниках России(менее чем в 2 раза больше чем в Питере), что при разницы населения в среднем в 10 раз, может говорить о тенденциях децентрализации, и открытия все большего количества офисов и предприятий по всей территории России. Причинами может являться более низкая стоимость земли/аренды так и меньший уровень ЗП, а с учетом высокоскоростных сетей и современных технологий, офисы компании, расположенные по всей стране, могут функционировать как единое целое, а в IT компаниях, например в ранее рассматриваемом Яндексе, такая тенденция становится еще заметнее.\n",
        "\n",
        "* В качестве еще дополнительных исследований, давайте выполним запрос 7_3 (заодно попробуем использовать POSIX регулярные выражения) и сравним насколько востребованы разработчики без опыта на языках JAVA и Python. По результатам видно, что количество вакансий для стажеров и junior разработчиков на Java более чем в 2 раза превышает их для Python (108 против 48). Однако, во-первых, как мы ранее выяснили, знание (и соответственно использование)  Python,очень часто требуется например в data science, а эти вакансии мы не учитывали в нашем запросе, а во-вторых, если судить по первому проекту, данные от HH даны за 2019 - 2020 год, а Python сейчас с каждым годом увеличивает свою популярность, и например по данным за 2022 год популярных зарубежных сайтов по поиску вакансий IEEE и CareerBuilder, Python практически сравнялся с Java - 88 против 95 условных баллов.\n",
        "\n",
        "* Давайте также проанализируем зависимость ЗП от типа работы и занятости в DS. По результату запроса 7_4 логично получаем, что самый низкий уровень у стажировок, потом идут частичная занятость, за ней полная, однако, интересно то, что и среди вакансий на частичную занятость и на полную, выше уровень зарплат у удаленной работы, за которой идет классический полный день и на последнем месте гибкий график. Дополнительно добавим в наш запрос группировку еще и по опыту работы. Получаем что для опыта работы от 3 до 6 лет (можем соотносить это с уровнем senior) при классическом полном дне или гибком графике уровень ЗП выше чем при удаленной работе, а вот для вакансий с требуемым опытом от 1 до 3 лет, ситуация обратная - при удаленной работе ЗП существенно выше. Однако, к сожалению, как я отметил ранее, во многих вакансиях уровень ЗП не указан (только 62 вакансии из 480 имеют хотя бы один заполненный атрибут из 2х), поэтому по такой небольшой выборке трудно сказать, что наши выводы точно применимы к реальным раскладам по рынку ЗП в DS.\n",
        "\n",
        "\n",
        "\n",
        "\n",
        "\n",
        "\n",
        "\n",
        "\n"
      ]
    },
    {
      "attachments": {},
      "cell_type": "markdown",
      "id": "5cd64b7b",
      "metadata": {},
      "source": [
        "#### Здесь можно (это будет плюсом) провести дополнительные исследования данных, сделать прогнозы, продумать варианты продолжения исследования\n"
      ]
    },
    {
      "attachments": {},
      "cell_type": "markdown",
      "id": "f661abb2",
      "metadata": {},
      "source": [
        "Оценим ТОП 10 регионов по числу вакансий, дополнительно выводя количество работодателей зарегистрированных в этих регионах."
      ]
    },
    {
      "cell_type": "code",
      "execution_count": 123,
      "id": "8986b8ea",
      "metadata": {},
      "outputs": [
        {
          "name": "stderr",
          "output_type": "stream",
          "text": [
            "C:\\Users\\maxim\\AppData\\Local\\Temp\\ipykernel_1856\\638207653.py:32: UserWarning: pandas only supports SQLAlchemy connectable (engine/connection) or database string URI or sqlite3 DBAPI2 connection. Other DBAPI2 objects are not tested. Please consider using SQLAlchemy.\n",
            "  df = pd.read_sql_query(query_7_1, connection)\n"
          ]
        },
        {
          "data": {
            "text/html": [
              "<div>\n",
              "<style scoped>\n",
              "    .dataframe tbody tr th:only-of-type {\n",
              "        vertical-align: middle;\n",
              "    }\n",
              "\n",
              "    .dataframe tbody tr th {\n",
              "        vertical-align: top;\n",
              "    }\n",
              "\n",
              "    .dataframe thead th {\n",
              "        text-align: right;\n",
              "    }\n",
              "</style>\n",
              "<table border=\"1\" class=\"dataframe\">\n",
              "  <thead>\n",
              "    <tr style=\"text-align: right;\">\n",
              "      <th></th>\n",
              "      <th>region</th>\n",
              "      <th>vacancies_cnt</th>\n",
              "      <th>employers_cnt</th>\n",
              "    </tr>\n",
              "  </thead>\n",
              "  <tbody>\n",
              "    <tr>\n",
              "      <th>0</th>\n",
              "      <td>Москва</td>\n",
              "      <td>5333</td>\n",
              "      <td>5864</td>\n",
              "    </tr>\n",
              "    <tr>\n",
              "      <th>1</th>\n",
              "      <td>Санкт-Петербург</td>\n",
              "      <td>2851</td>\n",
              "      <td>2217</td>\n",
              "    </tr>\n",
              "    <tr>\n",
              "      <th>2</th>\n",
              "      <td>Минск</td>\n",
              "      <td>2112</td>\n",
              "      <td>1115</td>\n",
              "    </tr>\n",
              "    <tr>\n",
              "      <th>3</th>\n",
              "      <td>Новосибирск</td>\n",
              "      <td>2006</td>\n",
              "      <td>573</td>\n",
              "    </tr>\n",
              "    <tr>\n",
              "      <th>4</th>\n",
              "      <td>Алматы</td>\n",
              "      <td>1892</td>\n",
              "      <td>721</td>\n",
              "    </tr>\n",
              "    <tr>\n",
              "      <th>5</th>\n",
              "      <td>Екатеринбург</td>\n",
              "      <td>1698</td>\n",
              "      <td>609</td>\n",
              "    </tr>\n",
              "    <tr>\n",
              "      <th>6</th>\n",
              "      <td>Нижний Новгород</td>\n",
              "      <td>1670</td>\n",
              "      <td>426</td>\n",
              "    </tr>\n",
              "    <tr>\n",
              "      <th>7</th>\n",
              "      <td>Казань</td>\n",
              "      <td>1415</td>\n",
              "      <td>480</td>\n",
              "    </tr>\n",
              "    <tr>\n",
              "      <th>8</th>\n",
              "      <td>Краснодар</td>\n",
              "      <td>1301</td>\n",
              "      <td>409</td>\n",
              "    </tr>\n",
              "    <tr>\n",
              "      <th>9</th>\n",
              "      <td>Самара</td>\n",
              "      <td>1144</td>\n",
              "      <td>315</td>\n",
              "    </tr>\n",
              "  </tbody>\n",
              "</table>\n",
              "</div>"
            ],
            "text/plain": [
              "            region  vacancies_cnt  employers_cnt\n",
              "0           Москва           5333           5864\n",
              "1  Санкт-Петербург           2851           2217\n",
              "2            Минск           2112           1115\n",
              "3      Новосибирск           2006            573\n",
              "4           Алматы           1892            721\n",
              "5     Екатеринбург           1698            609\n",
              "6  Нижний Новгород           1670            426\n",
              "7           Казань           1415            480\n",
              "8        Краснодар           1301            409\n",
              "9           Самара           1144            315"
            ]
          },
          "metadata": {},
          "output_type": "display_data"
        }
      ],
      "source": [
        "# текст запроса\n",
        "query_7_1= '''\n",
        "                SELECT \n",
        "                    region,\n",
        "                    vacancies_cnt,\n",
        "                    employers_cnt\n",
        "                    \n",
        "                FROM ( \n",
        "                    SELECT \n",
        "                        a.id,\n",
        "                        a.name region,\n",
        "                        COUNT(v.id) vacancies_cnt\n",
        "                    FROM areas a\n",
        "                    LEFT JOIN vacancies v ON a.id = v.area_id\n",
        "                    GROUP BY a.id\n",
        "                    ) area_vacancies\n",
        "\n",
        "                LEFT JOIN (\n",
        "                        SELECT \n",
        "                            area,\n",
        "                            COUNT(id) employers_cnt\n",
        "                        FROM employers\n",
        "                        GROUP BY area) e \n",
        "                    ON e.area = area_vacancies.id\n",
        "               \n",
        "                ORDER BY vacancies_cnt DESC NULLS LAST\n",
        "                LIMIT 10\n",
        "    \n",
        "            '''\n",
        "            \n",
        "# результат запроса\n",
        "df = pd.read_sql_query(query_7_1, connection)\n",
        "display(df)"
      ]
    },
    {
      "attachments": {},
      "cell_type": "markdown",
      "id": "b51dd434",
      "metadata": {},
      "source": [
        "Топ 15 компаний по числу вакансий."
      ]
    },
    {
      "cell_type": "code",
      "execution_count": 124,
      "id": "fb39b08d",
      "metadata": {},
      "outputs": [
        {
          "name": "stderr",
          "output_type": "stream",
          "text": [
            "C:\\Users\\maxim\\AppData\\Local\\Temp\\ipykernel_1856\\195019184.py:32: UserWarning: pandas only supports SQLAlchemy connectable (engine/connection) or database string URI or sqlite3 DBAPI2 connection. Other DBAPI2 objects are not tested. Please consider using SQLAlchemy.\n",
            "  df = pd.read_sql_query(query_7_2, connection)\n"
          ]
        },
        {
          "data": {
            "text/html": [
              "<div>\n",
              "<style scoped>\n",
              "    .dataframe tbody tr th:only-of-type {\n",
              "        vertical-align: middle;\n",
              "    }\n",
              "\n",
              "    .dataframe tbody tr th {\n",
              "        vertical-align: top;\n",
              "    }\n",
              "\n",
              "    .dataframe thead th {\n",
              "        text-align: right;\n",
              "    }\n",
              "</style>\n",
              "<table border=\"1\" class=\"dataframe\">\n",
              "  <thead>\n",
              "    <tr style=\"text-align: right;\">\n",
              "      <th></th>\n",
              "      <th>employer</th>\n",
              "      <th>cnt</th>\n",
              "    </tr>\n",
              "  </thead>\n",
              "  <tbody>\n",
              "    <tr>\n",
              "      <th>0</th>\n",
              "      <td>Яндекс</td>\n",
              "      <td>1933.0</td>\n",
              "    </tr>\n",
              "    <tr>\n",
              "      <th>1</th>\n",
              "      <td>Ростелеком</td>\n",
              "      <td>491.0</td>\n",
              "    </tr>\n",
              "    <tr>\n",
              "      <th>2</th>\n",
              "      <td>Тинькофф</td>\n",
              "      <td>444.0</td>\n",
              "    </tr>\n",
              "    <tr>\n",
              "      <th>3</th>\n",
              "      <td>СБЕР</td>\n",
              "      <td>428.0</td>\n",
              "    </tr>\n",
              "    <tr>\n",
              "      <th>4</th>\n",
              "      <td>Газпром нефть</td>\n",
              "      <td>331.0</td>\n",
              "    </tr>\n",
              "    <tr>\n",
              "      <th>5</th>\n",
              "      <td>ИК СИБИНТЕК</td>\n",
              "      <td>327.0</td>\n",
              "    </tr>\n",
              "    <tr>\n",
              "      <th>6</th>\n",
              "      <td>МТС</td>\n",
              "      <td>292.0</td>\n",
              "    </tr>\n",
              "    <tr>\n",
              "      <th>7</th>\n",
              "      <td>DataArt</td>\n",
              "      <td>247.0</td>\n",
              "    </tr>\n",
              "    <tr>\n",
              "      <th>8</th>\n",
              "      <td>Совкомбанк Технологии</td>\n",
              "      <td>204.0</td>\n",
              "    </tr>\n",
              "    <tr>\n",
              "      <th>9</th>\n",
              "      <td>Первый Бит</td>\n",
              "      <td>176.0</td>\n",
              "    </tr>\n",
              "    <tr>\n",
              "      <th>10</th>\n",
              "      <td>Ozon</td>\n",
              "      <td>175.0</td>\n",
              "    </tr>\n",
              "    <tr>\n",
              "      <th>11</th>\n",
              "      <td>IBS</td>\n",
              "      <td>175.0</td>\n",
              "    </tr>\n",
              "    <tr>\n",
              "      <th>12</th>\n",
              "      <td>Andersen</td>\n",
              "      <td>155.0</td>\n",
              "    </tr>\n",
              "    <tr>\n",
              "      <th>13</th>\n",
              "      <td>Тензор</td>\n",
              "      <td>155.0</td>\n",
              "    </tr>\n",
              "    <tr>\n",
              "      <th>14</th>\n",
              "      <td>Спецремонт</td>\n",
              "      <td>151.0</td>\n",
              "    </tr>\n",
              "    <tr>\n",
              "      <th>15</th>\n",
              "      <td>total</td>\n",
              "      <td>5684.0</td>\n",
              "    </tr>\n",
              "  </tbody>\n",
              "</table>\n",
              "</div>"
            ],
            "text/plain": [
              "                 employer     cnt\n",
              "0                  Яндекс  1933.0\n",
              "1              Ростелеком   491.0\n",
              "2                Тинькофф   444.0\n",
              "3                    СБЕР   428.0\n",
              "4           Газпром нефть   331.0\n",
              "5             ИК СИБИНТЕК   327.0\n",
              "6                     МТС   292.0\n",
              "7                 DataArt   247.0\n",
              "8   Совкомбанк Технологии   204.0\n",
              "9              Первый Бит   176.0\n",
              "10                   Ozon   175.0\n",
              "11                    IBS   175.0\n",
              "12               Andersen   155.0\n",
              "13                 Тензор   155.0\n",
              "14             Спецремонт   151.0\n",
              "15                  total  5684.0"
            ]
          },
          "metadata": {},
          "output_type": "display_data"
        }
      ],
      "source": [
        "# текст запроса\n",
        "query_7_2= '''\n",
        "                (SELECT  \n",
        "                    e.name employer,\n",
        "                    COUNT(v.id) cnt\n",
        "                FROM vacancies v\n",
        "                JOIN employers e ON v.employer_id = e.id\n",
        "                GROUP BY e.id\n",
        "                ORDER BY COUNT(v.id) DESC\n",
        "                LIMIT 15)\n",
        "                \n",
        "                UNION ALL\n",
        "                \n",
        "                SELECT \n",
        "                    'total',\n",
        "                    SUM(cnt)\n",
        "                FROM (\n",
        "                    SELECT  \n",
        "                        e.name employer,\n",
        "                        COUNT(v.id) cnt\n",
        "                    FROM vacancies v\n",
        "                    JOIN employers e ON v.employer_id = e.id\n",
        "                    GROUP BY e.id\n",
        "                    ORDER BY COUNT(v.id) DESC\n",
        "                    LIMIT 15\n",
        "                ) x\n",
        "                \n",
        "    \n",
        "            '''\n",
        "            \n",
        "# результат запроса\n",
        "df = pd.read_sql_query(query_7_2, connection)\n",
        "display(df)"
      ]
    },
    {
      "attachments": {},
      "cell_type": "markdown",
      "id": "64824970",
      "metadata": {},
      "source": [
        "Сравнение количества вакансий для разработчиков без опыта на Java или Python."
      ]
    },
    {
      "cell_type": "code",
      "execution_count": 125,
      "id": "c78ee57b",
      "metadata": {},
      "outputs": [
        {
          "name": "stderr",
          "output_type": "stream",
          "text": [
            "C:\\Users\\maxim\\AppData\\Local\\Temp\\ipykernel_1856\\3801018459.py:32: UserWarning: pandas only supports SQLAlchemy connectable (engine/connection) or database string URI or sqlite3 DBAPI2 connection. Other DBAPI2 objects are not tested. Please consider using SQLAlchemy.\n",
            "  df = pd.read_sql_query(query_7_3, connection)\n"
          ]
        },
        {
          "data": {
            "text/html": [
              "<div>\n",
              "<style scoped>\n",
              "    .dataframe tbody tr th:only-of-type {\n",
              "        vertical-align: middle;\n",
              "    }\n",
              "\n",
              "    .dataframe tbody tr th {\n",
              "        vertical-align: top;\n",
              "    }\n",
              "\n",
              "    .dataframe thead th {\n",
              "        text-align: right;\n",
              "    }\n",
              "</style>\n",
              "<table border=\"1\" class=\"dataframe\">\n",
              "  <thead>\n",
              "    <tr style=\"text-align: right;\">\n",
              "      <th></th>\n",
              "      <th>count</th>\n",
              "      <th>language</th>\n",
              "    </tr>\n",
              "  </thead>\n",
              "  <tbody>\n",
              "    <tr>\n",
              "      <th>0</th>\n",
              "      <td>48</td>\n",
              "      <td>вакансии для начинающего разработчика на Python</td>\n",
              "    </tr>\n",
              "    <tr>\n",
              "      <th>1</th>\n",
              "      <td>108</td>\n",
              "      <td>вакансии для начинающего разработчика на JAVA</td>\n",
              "    </tr>\n",
              "  </tbody>\n",
              "</table>\n",
              "</div>"
            ],
            "text/plain": [
              "   count                                         language\n",
              "0     48  вакансии для начинающего разработчика на Python\n",
              "1    108    вакансии для начинающего разработчика на JAVA"
            ]
          },
          "metadata": {},
          "output_type": "display_data"
        }
      ],
      "source": [
        "# текст запроса\n",
        "query_7_3= '''\n",
        "                SELECT \n",
        "                    COUNT(*),\n",
        "                    'вакансии для начинающего разработчика на Python' \"language\"\n",
        "                FROM vacancies\n",
        "                WHERE(name ~*'.*разработ.*python.*|.*python.*разработ.*|.*Python.*Developer.*|.*developer.*python.*|.*программист.*python.*'\n",
        "                       \n",
        "                     )\n",
        "                     AND (name ~* '.*junior.*'       -- условия для начинающего специалиста\n",
        "                        OR experience = 'Нет опыта'\n",
        "                        OR employment = 'Стажировка'\n",
        "                        )\n",
        "                        \n",
        "                UNION ALL\n",
        "                \n",
        "                SELECT \n",
        "                    COUNT(*),\n",
        "                    'вакансии для начинающего разработчика на JAVA'\n",
        "                FROM vacancies\n",
        "                WHERE name ~*'.*разработ.*Java.*|.*Java.*разработ.*|.*Java.*Developer.*|.*developer.*Java.*|.*программист.*Java.*'\n",
        "                 \n",
        "                    AND name !~* '.*Java.*Script.*'  -- Но нас не интересует JavaScript\n",
        "    \n",
        "                    AND (name ~* '.*junior.*' \n",
        "                        OR experience = 'Нет опыта'\n",
        "                        OR employment = 'Стажировка'\n",
        "                        )\n",
        "            '''\n",
        "            \n",
        "# результат запроса\n",
        "df = pd.read_sql_query(query_7_3, connection)\n",
        "display(df)"
      ]
    },
    {
      "attachments": {},
      "cell_type": "markdown",
      "id": "ed7957dd",
      "metadata": {},
      "source": [
        "Зависимость ЗП от типа работы и занятости в DS"
      ]
    },
    {
      "cell_type": "code",
      "execution_count": 126,
      "id": "76aa4b2d",
      "metadata": {},
      "outputs": [
        {
          "name": "stderr",
          "output_type": "stream",
          "text": [
            "C:\\Users\\maxim\\AppData\\Local\\Temp\\ipykernel_1856\\3407180591.py:23: UserWarning: pandas only supports SQLAlchemy connectable (engine/connection) or database string URI or sqlite3 DBAPI2 connection. Other DBAPI2 objects are not tested. Please consider using SQLAlchemy.\n",
            "  df = pd.read_sql_query(query_7_4, connection)\n"
          ]
        },
        {
          "data": {
            "text/html": [
              "<div>\n",
              "<style scoped>\n",
              "    .dataframe tbody tr th:only-of-type {\n",
              "        vertical-align: middle;\n",
              "    }\n",
              "\n",
              "    .dataframe tbody tr th {\n",
              "        vertical-align: top;\n",
              "    }\n",
              "\n",
              "    .dataframe thead th {\n",
              "        text-align: right;\n",
              "    }\n",
              "</style>\n",
              "<table border=\"1\" class=\"dataframe\">\n",
              "  <thead>\n",
              "    <tr style=\"text-align: right;\">\n",
              "      <th></th>\n",
              "      <th>combination</th>\n",
              "      <th>avg_salary</th>\n",
              "    </tr>\n",
              "  </thead>\n",
              "  <tbody>\n",
              "    <tr>\n",
              "      <th>0</th>\n",
              "      <td>Гибкий график - Стажировка</td>\n",
              "      <td>37000.0</td>\n",
              "    </tr>\n",
              "    <tr>\n",
              "      <th>1</th>\n",
              "      <td>Полный день - Частичная занятость</td>\n",
              "      <td>72500.0</td>\n",
              "    </tr>\n",
              "    <tr>\n",
              "      <th>2</th>\n",
              "      <td>Удаленная работа - Проектная работа</td>\n",
              "      <td>90000.0</td>\n",
              "    </tr>\n",
              "    <tr>\n",
              "      <th>3</th>\n",
              "      <td>Удаленная работа - Частичная занятость</td>\n",
              "      <td>119000.0</td>\n",
              "    </tr>\n",
              "    <tr>\n",
              "      <th>4</th>\n",
              "      <td>Гибкий график - Полная занятость</td>\n",
              "      <td>175000.0</td>\n",
              "    </tr>\n",
              "    <tr>\n",
              "      <th>5</th>\n",
              "      <td>Полный день - Полная занятость</td>\n",
              "      <td>178307.0</td>\n",
              "    </tr>\n",
              "    <tr>\n",
              "      <th>6</th>\n",
              "      <td>Удаленная работа - Полная занятость</td>\n",
              "      <td>209409.0</td>\n",
              "    </tr>\n",
              "  </tbody>\n",
              "</table>\n",
              "</div>"
            ],
            "text/plain": [
              "                              combination  avg_salary\n",
              "0              Гибкий график - Стажировка     37000.0\n",
              "1       Полный день - Частичная занятость     72500.0\n",
              "2     Удаленная работа - Проектная работа     90000.0\n",
              "3  Удаленная работа - Частичная занятость    119000.0\n",
              "4        Гибкий график - Полная занятость    175000.0\n",
              "5          Полный день - Полная занятость    178307.0\n",
              "6     Удаленная работа - Полная занятость    209409.0"
            ]
          },
          "metadata": {},
          "output_type": "display_data"
        },
        {
          "name": "stderr",
          "output_type": "stream",
          "text": [
            "C:\\Users\\maxim\\AppData\\Local\\Temp\\ipykernel_1856\\3407180591.py:49: UserWarning: pandas only supports SQLAlchemy connectable (engine/connection) or database string URI or sqlite3 DBAPI2 connection. Other DBAPI2 objects are not tested. Please consider using SQLAlchemy.\n",
            "  df = pd.read_sql_query(query_7_4_2, connection)\n"
          ]
        },
        {
          "data": {
            "text/html": [
              "<div>\n",
              "<style scoped>\n",
              "    .dataframe tbody tr th:only-of-type {\n",
              "        vertical-align: middle;\n",
              "    }\n",
              "\n",
              "    .dataframe tbody tr th {\n",
              "        vertical-align: top;\n",
              "    }\n",
              "\n",
              "    .dataframe thead th {\n",
              "        text-align: right;\n",
              "    }\n",
              "</style>\n",
              "<table border=\"1\" class=\"dataframe\">\n",
              "  <thead>\n",
              "    <tr style=\"text-align: right;\">\n",
              "      <th></th>\n",
              "      <th>experience</th>\n",
              "      <th>combination</th>\n",
              "      <th>avg_salary</th>\n",
              "    </tr>\n",
              "  </thead>\n",
              "  <tbody>\n",
              "    <tr>\n",
              "      <th>0</th>\n",
              "      <td>Нет опыта</td>\n",
              "      <td>Гибкий график - Стажировка</td>\n",
              "      <td>37000.0</td>\n",
              "    </tr>\n",
              "    <tr>\n",
              "      <th>1</th>\n",
              "      <td>Нет опыта</td>\n",
              "      <td>Полный день - Частичная занятость</td>\n",
              "      <td>72500.0</td>\n",
              "    </tr>\n",
              "    <tr>\n",
              "      <th>2</th>\n",
              "      <td>Нет опыта</td>\n",
              "      <td>Полный день - Полная занятость</td>\n",
              "      <td>82600.0</td>\n",
              "    </tr>\n",
              "    <tr>\n",
              "      <th>3</th>\n",
              "      <td>От 1 года до 3 лет</td>\n",
              "      <td>Удаленная работа - Проектная работа</td>\n",
              "      <td>90000.0</td>\n",
              "    </tr>\n",
              "    <tr>\n",
              "      <th>4</th>\n",
              "      <td>От 3 до 6 лет</td>\n",
              "      <td>Удаленная работа - Частичная занятость</td>\n",
              "      <td>119000.0</td>\n",
              "    </tr>\n",
              "    <tr>\n",
              "      <th>5</th>\n",
              "      <td>От 1 года до 3 лет</td>\n",
              "      <td>Полный день - Полная занятость</td>\n",
              "      <td>132253.0</td>\n",
              "    </tr>\n",
              "    <tr>\n",
              "      <th>6</th>\n",
              "      <td>От 1 года до 3 лет</td>\n",
              "      <td>Гибкий график - Полная занятость</td>\n",
              "      <td>137500.0</td>\n",
              "    </tr>\n",
              "    <tr>\n",
              "      <th>7</th>\n",
              "      <td>От 1 года до 3 лет</td>\n",
              "      <td>Удаленная работа - Полная занятость</td>\n",
              "      <td>179224.0</td>\n",
              "    </tr>\n",
              "    <tr>\n",
              "      <th>8</th>\n",
              "      <td>От 3 до 6 лет</td>\n",
              "      <td>Удаленная работа - Полная занятость</td>\n",
              "      <td>232048.0</td>\n",
              "    </tr>\n",
              "    <tr>\n",
              "      <th>9</th>\n",
              "      <td>От 3 до 6 лет</td>\n",
              "      <td>Гибкий график - Полная занятость</td>\n",
              "      <td>250000.0</td>\n",
              "    </tr>\n",
              "    <tr>\n",
              "      <th>10</th>\n",
              "      <td>От 3 до 6 лет</td>\n",
              "      <td>Полный день - Полная занятость</td>\n",
              "      <td>255218.0</td>\n",
              "    </tr>\n",
              "  </tbody>\n",
              "</table>\n",
              "</div>"
            ],
            "text/plain": [
              "            experience                             combination  avg_salary\n",
              "0            Нет опыта              Гибкий график - Стажировка     37000.0\n",
              "1            Нет опыта       Полный день - Частичная занятость     72500.0\n",
              "2            Нет опыта          Полный день - Полная занятость     82600.0\n",
              "3   От 1 года до 3 лет     Удаленная работа - Проектная работа     90000.0\n",
              "4        От 3 до 6 лет  Удаленная работа - Частичная занятость    119000.0\n",
              "5   От 1 года до 3 лет          Полный день - Полная занятость    132253.0\n",
              "6   От 1 года до 3 лет        Гибкий график - Полная занятость    137500.0\n",
              "7   От 1 года до 3 лет     Удаленная работа - Полная занятость    179224.0\n",
              "8        От 3 до 6 лет     Удаленная работа - Полная занятость    232048.0\n",
              "9        От 3 до 6 лет        Гибкий график - Полная занятость    250000.0\n",
              "10       От 3 до 6 лет          Полный день - Полная занятость    255218.0"
            ]
          },
          "metadata": {},
          "output_type": "display_data"
        }
      ],
      "source": [
        "# текст запроса\n",
        "query_7_4= '''\n",
        "                SELECT\n",
        "                schedule || ' - ' || employment combination,\n",
        "                ROUND(\n",
        "                AVG(COALESCE((salary_from+salary_to)/2, salary_to, salary_from)) \n",
        "                ) avg_salary\n",
        "                FROM vacancies\n",
        "                WHERE ((name ILIKE any ('\n",
        "                        { %data scientist%, %data science%, %исследователь данных%,\n",
        "                        %machine learning%, %машинн%обучен% }\n",
        "                        '))\n",
        "                        OR  (\n",
        "                            name LIKE '%ML%' \n",
        "                            AND name not LIKE '%HTML%'\n",
        "                        ))\n",
        "                    AND COALESCE(salary_from, salary_to) IS NOT NULL\n",
        "                GROUP BY schedule || ' - ' || employment\n",
        "                ORDER BY 2\n",
        "            '''\n",
        "            \n",
        "# результат запроса\n",
        "df = pd.read_sql_query(query_7_4, connection)\n",
        "display(df)\n",
        "\n",
        "# текст запроса\n",
        "query_7_4_2= '''\n",
        "                SELECT\n",
        "                experience,\n",
        "                schedule || ' - ' || employment combination,\n",
        "                ROUND(\n",
        "                AVG(COALESCE((salary_from+salary_to)/2, salary_to, salary_from)) \n",
        "                ) avg_salary\n",
        "                FROM vacancies\n",
        "                WHERE ((name ILIKE any ('\n",
        "                        { %data scientist%, %data science%, %исследователь данных%,\n",
        "                        %machine learning%, %машинн%обучен% }\n",
        "                        '))\n",
        "                        OR  (\n",
        "                            name LIKE '%ML%' \n",
        "                            AND name not LIKE '%HTML%'\n",
        "                        ))\n",
        "                    AND COALESCE(salary_from, salary_to) IS NOT NULL\n",
        "                GROUP BY experience, schedule || ' - ' || employment \n",
        "                ORDER BY 3\n",
        "            '''\n",
        "            \n",
        "# результат запроса\n",
        "df = pd.read_sql_query(query_7_4_2, connection)\n",
        "display(df)"
      ]
    }
  ],
  "metadata": {
    "colab": {
      "collapsed_sections": [
        "8d62a9f3-f64e-4fe7-bdac-c4dffa16155e"
      ],
      "provenance": []
    },
    "kernelspec": {
      "display_name": "Python 3",
      "language": "python",
      "name": "python3"
    },
    "language_info": {
      "codemirror_mode": {
        "name": "ipython",
        "version": 3
      },
      "file_extension": ".py",
      "mimetype": "text/x-python",
      "name": "python",
      "nbconvert_exporter": "python",
      "pygments_lexer": "ipython3",
      "version": "3.10.9"
    },
    "vscode": {
      "interpreter": {
        "hash": "6d55a4a4422c7c56ab9aa6b3a6f8e3d1bed453525bd9d3fb1e432d31c99217ef"
      }
    }
  },
  "nbformat": 4,
  "nbformat_minor": 5
}
